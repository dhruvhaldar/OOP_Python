{
 "cells": [
  {
   "cell_type": "markdown",
   "id": "38a752ea",
   "metadata": {},
   "source": [
    "## Imports"
   ]
  },
  {
   "cell_type": "code",
   "execution_count": 1,
   "id": "40cd2cc5",
   "metadata": {},
   "outputs": [],
   "source": [
    "from abc import ABC, abstractmethod"
   ]
  },
  {
   "cell_type": "markdown",
   "id": "661602a5",
   "metadata": {
    "vscode": {
     "languageId": "plaintext"
    }
   },
   "source": [
    "## Abstract Base Class"
   ]
  },
  {
   "cell_type": "code",
   "execution_count": 2,
   "id": "f979438c",
   "metadata": {},
   "outputs": [],
   "source": [
    "class Vehicle(ABC):\n",
    "    \"\"\"\n",
    "    Abstract Base Class (ABC) for all vehicles.\n",
    "\n",
    "    Attributes:\n",
    "        brand (str): Manufacturer name.\n",
    "        model (str): Model name of the vehicle.\n",
    "\n",
    "    Methods:\n",
    "        start(): Start the vehicle (uses self.brand and self.model).\n",
    "        stop(): Stop the vehicle.\n",
    "        info(): Abstract method, must be implemented by subclasses.\n",
    "    \"\"\"\n",
    "\n",
    "    def __init__(self, brand: str, model: str):\n",
    "        \"\"\"\n",
    "        Initialize a Vehicle.\n",
    "\n",
    "        Args:\n",
    "            brand (str): Manufacturer.\n",
    "            model (str): Model name.\n",
    "        \"\"\"\n",
    "        self.brand = brand\n",
    "        self.model = model\n",
    "\n",
    "    def start(self) -> str:\n",
    "        \"\"\"Start the vehicle using self attributes.\"\"\"\n",
    "        return f\"{self.brand} {self.model} is starting...\"\n",
    "\n",
    "    def stop(self) -> str:\n",
    "        \"\"\"Stop the vehicle using self attributes.\"\"\"\n",
    "        return f\"{self.brand} {self.model} is stopping.\"\n",
    "\n",
    "    @abstractmethod\n",
    "    def info(self) -> str:\n",
    "        \"\"\"Abstract method for vehicle information.\"\"\"\n",
    "        pass"
   ]
  },
  {
   "cell_type": "markdown",
   "id": "a3819cff",
   "metadata": {},
   "source": [
    " ## Electric Mixin \n",
    " Mixin class for electric vehicle features. Provides battery capacity, charging, and status."
   ]
  },
  {
   "cell_type": "code",
   "execution_count": 3,
   "id": "c46a8e7e",
   "metadata": {},
   "outputs": [],
   "source": [
    "class ElectricMixin:\n",
    "\n",
    "    def __init__(self, battery_capacity: int):\n",
    "        \"\"\"\n",
    "        Args:\n",
    "            battery_capacity (int): Battery capacity in kWh.\n",
    "        \"\"\"\n",
    "        self.battery_capacity = battery_capacity\n",
    "        self.charge_level = 100  # %\n",
    "\n",
    "    def charge(self, amount: int) -> str:\n",
    "        \"\"\"\n",
    "        Charge the battery by increasing self.charge_level.\n",
    "\n",
    "        Args:\n",
    "            amount (int): Amount of charge to add (percentage).\n",
    "\n",
    "        Returns:\n",
    "            str: Current battery level.\n",
    "        \"\"\"\n",
    "        self.charge_level = min(100, self.charge_level + amount)\n",
    "        return f\"Battery charged to {self.charge_level}%\"\n",
    "\n",
    "    def battery_status(self) -> str:\n",
    "        \"\"\"Return current battery status using self attributes.\"\"\"\n",
    "        return f\"Battery: {self.charge_level}% ({self.battery_capacity} kWh)\""
   ]
  },
  {
   "cell_type": "markdown",
   "id": "9c32044b",
   "metadata": {},
   "source": [
    "## Derived Classes with self usage"
   ]
  },
  {
   "cell_type": "code",
   "execution_count": 4,
   "id": "c796e4cb",
   "metadata": {},
   "outputs": [],
   "source": [
    "class Car(Vehicle):\n",
    "    \"\"\"\n",
    "    Car class derived from Vehicle.\n",
    "\n",
    "    Attributes:\n",
    "        seats (int): Number of seats.\n",
    "    \"\"\"\n",
    "\n",
    "    def __init__(self, brand: str, model: str, seats: int):\n",
    "        super().__init__(brand, model)\n",
    "        self.seats = seats\n",
    "\n",
    "    def info(self) -> str:\n",
    "        \"\"\"Return details about the car using self attributes.\"\"\"\n",
    "        return f\"Car: {self.brand} {self.model}, Seats: {self.seats}\"\n",
    "\n",
    "    def honk(self) -> str:\n",
    "        \"\"\"Car-specific behavior showing object identity with id(self).\"\"\"\n",
    "        return f\"{self.brand} {self.model} says: Beep beep! (id={id(self)})\"\n",
    "\n",
    "\n",
    "class ElectricCar(Car, ElectricMixin):\n",
    "    \"\"\"\n",
    "    ElectricCar demonstrates multiple inheritance.\n",
    "    Inherits from Car (Vehicle) and ElectricMixin.\n",
    "    \"\"\"\n",
    "\n",
    "    def __init__(self, brand: str, model: str, seats: int, battery_capacity: int):\n",
    "        Car.__init__(self, brand, model, seats)\n",
    "        ElectricMixin.__init__(self, battery_capacity)\n",
    "\n",
    "    def info(self) -> str:\n",
    "        \"\"\"Return details about the electric car.\"\"\"\n",
    "        return (f\"Electric Car: {self.brand} {self.model}, \"\n",
    "                f\"Seats: {self.seats}, Battery: {self.battery_capacity} kWh\")\n",
    "\n",
    "\n",
    "class Bike(Vehicle):\n",
    "    \"\"\"\n",
    "    Bike class derived from Vehicle.\n",
    "\n",
    "    Attributes:\n",
    "        cc (int): Engine displacement in cubic centimeters.\n",
    "    \"\"\"\n",
    "\n",
    "    def __init__(self, brand: str, model: str, cc: int):\n",
    "        super().__init__(brand, model)\n",
    "        self.cc = cc\n",
    "\n",
    "    def info(self) -> str:\n",
    "        \"\"\"Return details about the bike.\"\"\"\n",
    "        return f\"Bike: {self.brand} {self.model}, Engine: {self.cc}cc\"\n",
    "\n",
    "    def wheelie(self) -> str:\n",
    "        \"\"\"Bike-specific behavior.\"\"\"\n",
    "        return f\"{self.brand} {self.model} is doing a wheelie! (id={id(self)})\"\n",
    "\n",
    "\n",
    "class Truck(Vehicle):\n",
    "    \"\"\"\n",
    "    Truck class derived from Vehicle.\n",
    "\n",
    "    Attributes:\n",
    "        capacity (int): Load capacity in tons.\n",
    "    \"\"\"\n",
    "\n",
    "    def __init__(self, brand: str, model: str, capacity: int):\n",
    "        super().__init__(brand, model)\n",
    "        self.capacity = capacity\n",
    "\n",
    "    def info(self) -> str:\n",
    "        \"\"\"Return details about the truck.\"\"\"\n",
    "        return f\"Truck: {self.brand} {self.model}, Capacity: {self.capacity} tons\"\n",
    "\n",
    "    def load(self) -> str:\n",
    "        \"\"\"Truck-specific behavior.\"\"\"\n",
    "        return f\"{self.brand} {self.model} is loading cargo. (id={id(self)})\""
   ]
  },
  {
   "cell_type": "markdown",
   "id": "5928ea89",
   "metadata": {},
   "source": [
    "## Demonstration of polymorphism and self"
   ]
  },
  {
   "cell_type": "code",
   "execution_count": 5,
   "id": "871244c1",
   "metadata": {},
   "outputs": [
    {
     "name": "stdout",
     "output_type": "stream",
     "text": [
      "Toyota Camry is starting...\n",
      "Car: Toyota Camry, Seats: 5\n",
      "Object memory id: 1800917604336\n",
      "Toyota Camry is stopping.\n",
      "--------------------------------------------------\n",
      "Yamaha R15 is starting...\n",
      "Bike: Yamaha R15, Engine: 150cc\n",
      "Object memory id: 1800917604000\n",
      "Yamaha R15 is stopping.\n",
      "--------------------------------------------------\n",
      "Volvo FH16 is starting...\n",
      "Truck: Volvo FH16, Capacity: 20 tons\n",
      "Object memory id: 1800917605008\n",
      "Volvo FH16 is stopping.\n",
      "--------------------------------------------------\n",
      "Tesla Model 3 is starting...\n",
      "Electric Car: Tesla Model 3, Seats: 5, Battery: 75 kWh\n",
      "Object memory id: 1800917605344\n",
      "Tesla Model 3 is stopping.\n",
      "--------------------------------------------------\n",
      "Toyota Camry says: Beep beep! (id=1800917604336)\n",
      "Yamaha R15 is doing a wheelie! (id=1800917604000)\n",
      "Volvo FH16 is loading cargo. (id=1800917605008)\n",
      "Battery charged to 100%\n",
      "Battery: 100% (75 kWh)\n"
     ]
    }
   ],
   "source": [
    "vehicles = [\n",
    "    Car(\"Toyota\", \"Camry\", 5),\n",
    "    Bike(\"Yamaha\", \"R15\", 150),\n",
    "    Truck(\"Volvo\", \"FH16\", 20),\n",
    "    ElectricCar(\"Tesla\", \"Model 3\", 5, 75)\n",
    "]\n",
    "\n",
    "for v in vehicles:\n",
    "    print(v.start())       # uses self.brand, self.model\n",
    "    print(v.info())        # polymorphism: each subclass has its own version\n",
    "    print(f\"Object memory id: {id(v)}\")  # self's identity in memory\n",
    "    print(v.stop())\n",
    "    print(\"-\" * 50)\n",
    "\n",
    "# Unique behaviors\n",
    "print(vehicles[0].honk())\n",
    "print(vehicles[1].wheelie())\n",
    "print(vehicles[2].load())\n",
    "print(vehicles[3].charge(20))\n",
    "print(vehicles[3].battery_status())"
   ]
  },
  {
   "cell_type": "markdown",
   "id": "461174a2",
   "metadata": {},
   "source": [
    " ## Why `self` matters (comparison)"
   ]
  },
  {
   "cell_type": "markdown",
   "id": "77d2cedd",
   "metadata": {},
   "source": [
    "`self` is the way Python methods refer to the current object.\n",
    "\n",
    "If you forget `self`, Python will treat arguments incorrectly and throw an error.\n",
    "\n",
    "Each object has its own memory id (you can see it with `id(self)`), proving that self points to that unique object.\n",
    "\n",
    "BadCar shows what breaks without `self`, while GoodCar shows the correct pattern."
   ]
  },
  {
   "cell_type": "code",
   "execution_count": 6,
   "id": "27109999",
   "metadata": {},
   "outputs": [
    {
     "name": "stdout",
     "output_type": "stream",
     "text": [
      "Error caused by missing self: BadCar.__init__() takes 2 positional arguments but 3 were given\n",
      "Ford Focus says: Beep beep!\n"
     ]
    }
   ],
   "source": [
    "class BadCar:\n",
    "    \"\"\"Example of forgetting self in method definitions (incorrect).\"\"\"\n",
    "\n",
    "    def __init__(brand, model):  # ❌ Forgot 'self'\n",
    "        brand.name = brand       # This will cause confusion\n",
    "        brand.model = model\n",
    "\n",
    "    def honk():  # ❌ Forgot 'self'\n",
    "        return \"Beep beep!\"\n",
    "\n",
    "# Trying to create a BadCar will raise errors\n",
    "try:\n",
    "    bad = BadCar(\"Ford\", \"Focus\")\n",
    "    print(bad.honk())\n",
    "except Exception as e:\n",
    "    print(\"Error caused by missing self:\", e)\n",
    "\n",
    "\n",
    "class GoodCar:\n",
    "    \"\"\"Correct usage with self.\"\"\"\n",
    "\n",
    "    def __init__(self, brand, model):\n",
    "        self.brand = brand\n",
    "        self.model = model\n",
    "\n",
    "    def honk(self):\n",
    "        return f\"{self.brand} {self.model} says: Beep beep!\"\n",
    "\n",
    "good = GoodCar(\"Ford\", \"Focus\")\n",
    "print(good.honk())"
   ]
  },
  {
   "cell_type": "markdown",
   "id": "64a9d891",
   "metadata": {},
   "source": [
    "## Interactive Flowchart of Classes, Methods, and Attributes"
   ]
  },
  {
   "cell_type": "code",
   "execution_count": 7,
   "id": "49ec3a8a",
   "metadata": {},
   "outputs": [
    {
     "data": {
      "application/vnd.plotly.v1+json": {
       "config": {
        "plotlyServerURL": "https://plot.ly"
       },
       "data": [
        {
         "hoverinfo": "none",
         "line": {
          "color": "gray",
          "width": 1
         },
         "mode": "lines",
         "type": "scatter",
         "x": [
          -0.14318869165179793,
          0.9946109187957625,
          null,
          -0.14318869165179793,
          -0.5606833985845663,
          null,
          -0.14318869165179793,
          -0.9614035245984441,
          null,
          -0.14318869165179793,
          0.665196321596037,
          null,
          -0.14318869165179793,
          -0.6809901752141548,
          null,
          0.07449826461850889,
          -0.9268860915877057,
          null,
          0.07449826461850889,
          0.0022698838775226955,
          null,
          0.07449826461850889,
          0.12635929176105112,
          null,
          0.07449826461850889,
          -0.14318869165179793,
          null,
          -0.020191732039948142,
          -0.6986693708424851,
          null,
          -0.020191732039948142,
          0.35229607981066846,
          null,
          -0.020191732039948142,
          0.12635929176105112,
          null,
          -0.020191732039948142,
          -0.14318869165179793,
          null,
          0.03880943552928253,
          0.4314648581754377,
          null,
          0.03880943552928253,
          0.8171907688344935,
          null,
          0.03880943552928253,
          0.12635929176105112,
          null,
          0.03880943552928253,
          -0.14318869165179793,
          null,
          0.07605096113780045,
          0.9718598083636948,
          null,
          0.07605096113780045,
          -0.21238851715805832,
          null,
          0.07605096113780045,
          0.9917674582491222,
          null,
          0.07605096113780045,
          -0.9977968513793719,
          null,
          -0.34017569769284917,
          0.07449826461850889,
          null,
          -0.34017569769284917,
          0.07605096113780045,
          null,
          -0.34017569769284917,
          0.12635929176105112,
          null
         ],
         "y": [
          0.40175624213196154,
          0.3060512643487177,
          null,
          0.40175624213196154,
          -0.8358912627133404,
          null,
          0.40175624213196154,
          0.42453531050033394,
          null,
          0.40175624213196154,
          0.8149610453420528,
          null,
          0.40175624213196154,
          0.9608595644676885,
          null,
          0.011746737369262876,
          -0.37608369651973605,
          null,
          0.011746737369262876,
          0.9069368216916028,
          null,
          0.011746737369262876,
          -0.9058455323982543,
          null,
          0.011746737369262876,
          0.40175624213196154,
          null,
          -0.09478473420531654,
          -0.5912174825553074,
          null,
          -0.09478473420531654,
          0.9999999999999999,
          null,
          -0.09478473420531654,
          -0.9058455323982543,
          null,
          -0.09478473420531654,
          0.40175624213196154,
          null,
          -0.31973338749455354,
          -0.9173610102281478,
          null,
          -0.31973338749455354,
          -0.5021509755644508,
          null,
          -0.31973338749455354,
          -0.9058455323982543,
          null,
          -0.31973338749455354,
          0.40175624213196154,
          null,
          0.16698875492491638,
          0.6493874605629855,
          null,
          0.16698875492491638,
          -0.9727052134869888,
          null,
          0.16698875492491638,
          -0.05573683072802324,
          null,
          0.16698875492491638,
          -0.012634066826083673,
          null,
          -0.05907900861931809,
          0.011746737369262876,
          null,
          -0.05907900861931809,
          0.16698875492491638,
          null,
          -0.05907900861931809,
          -0.9058455323982543,
          null
         ]
        },
        {
         "hoverinfo": "text",
         "marker": {
          "color": "skyblue",
          "line": {
           "width": 2
          },
          "size": 25
         },
         "mode": "markers+text",
         "name": "Class",
         "text": [
          "Vehicle (ABC)",
          "Car",
          "Bike",
          "Truck",
          "ElectricMixin",
          "ElectricCar"
         ],
         "textposition": "top center",
         "type": "scatter",
         "x": [
          -0.14318869165179793,
          0.07449826461850889,
          -0.020191732039948142,
          0.03880943552928253,
          0.07605096113780045,
          -0.34017569769284917
         ],
         "y": [
          0.40175624213196154,
          0.011746737369262876,
          -0.09478473420531654,
          -0.31973338749455354,
          0.16698875492491638,
          -0.05907900861931809
         ]
        },
        {
         "hoverinfo": "text",
         "marker": {
          "color": "orange",
          "line": {
           "width": 2
          },
          "size": 25
         },
         "mode": "markers+text",
         "name": "Method",
         "text": [
          "start()",
          "stop()",
          "info() [abstract]",
          "honk()",
          "info()",
          "wheelie()",
          "load()",
          "charge()",
          "battery_status()"
         ],
         "textposition": "top center",
         "type": "scatter",
         "x": [
          -0.9614035245984441,
          0.665196321596037,
          -0.6809901752141548,
          0.0022698838775226955,
          0.12635929176105112,
          0.35229607981066846,
          0.8171907688344935,
          0.9917674582491222,
          -0.9977968513793719
         ],
         "y": [
          0.42453531050033394,
          0.8149610453420528,
          0.9608595644676885,
          0.9069368216916028,
          -0.9058455323982543,
          0.9999999999999999,
          -0.5021509755644508,
          -0.05573683072802324,
          -0.012634066826083673
         ]
        },
        {
         "hoverinfo": "text",
         "marker": {
          "color": "lightgreen",
          "line": {
           "width": 2
          },
          "size": 25
         },
         "mode": "markers+text",
         "name": "Attribute",
         "text": [
          "brand",
          "model",
          "seats",
          "cc",
          "capacity",
          "battery_capacity",
          "charge_level"
         ],
         "textposition": "top center",
         "type": "scatter",
         "x": [
          0.9946109187957625,
          -0.5606833985845663,
          -0.9268860915877057,
          -0.6986693708424851,
          0.4314648581754377,
          0.9718598083636948,
          -0.21238851715805832
         ],
         "y": [
          0.3060512643487177,
          -0.8358912627133404,
          -0.37608369651973605,
          -0.5912174825553074,
          -0.9173610102281478,
          0.6493874605629855,
          -0.9727052134869888
         ]
        },
        {
         "hoverinfo": "text",
         "marker": {
          "color": "lightgray",
          "line": {
           "width": 2
          },
          "size": 25
         },
         "mode": "markers+text",
         "name": "Other",
         "text": [],
         "textposition": "top center",
         "type": "scatter",
         "x": [],
         "y": []
        }
       ],
       "layout": {
        "legend": {
         "bgcolor": "rgba(255,255,255,0.7)",
         "bordercolor": "black",
         "x": 1.05,
         "y": 1
        },
        "margin": {
         "b": 20,
         "l": 20,
         "r": 20,
         "t": 40
        },
        "plot_bgcolor": "white",
        "showlegend": true,
        "template": {
         "data": {
          "bar": [
           {
            "error_x": {
             "color": "#2a3f5f"
            },
            "error_y": {
             "color": "#2a3f5f"
            },
            "marker": {
             "line": {
              "color": "#E5ECF6",
              "width": 0.5
             },
             "pattern": {
              "fillmode": "overlay",
              "size": 10,
              "solidity": 0.2
             }
            },
            "type": "bar"
           }
          ],
          "barpolar": [
           {
            "marker": {
             "line": {
              "color": "#E5ECF6",
              "width": 0.5
             },
             "pattern": {
              "fillmode": "overlay",
              "size": 10,
              "solidity": 0.2
             }
            },
            "type": "barpolar"
           }
          ],
          "carpet": [
           {
            "aaxis": {
             "endlinecolor": "#2a3f5f",
             "gridcolor": "white",
             "linecolor": "white",
             "minorgridcolor": "white",
             "startlinecolor": "#2a3f5f"
            },
            "baxis": {
             "endlinecolor": "#2a3f5f",
             "gridcolor": "white",
             "linecolor": "white",
             "minorgridcolor": "white",
             "startlinecolor": "#2a3f5f"
            },
            "type": "carpet"
           }
          ],
          "choropleth": [
           {
            "colorbar": {
             "outlinewidth": 0,
             "ticks": ""
            },
            "type": "choropleth"
           }
          ],
          "contour": [
           {
            "colorbar": {
             "outlinewidth": 0,
             "ticks": ""
            },
            "colorscale": [
             [
              0,
              "#0d0887"
             ],
             [
              0.1111111111111111,
              "#46039f"
             ],
             [
              0.2222222222222222,
              "#7201a8"
             ],
             [
              0.3333333333333333,
              "#9c179e"
             ],
             [
              0.4444444444444444,
              "#bd3786"
             ],
             [
              0.5555555555555556,
              "#d8576b"
             ],
             [
              0.6666666666666666,
              "#ed7953"
             ],
             [
              0.7777777777777778,
              "#fb9f3a"
             ],
             [
              0.8888888888888888,
              "#fdca26"
             ],
             [
              1,
              "#f0f921"
             ]
            ],
            "type": "contour"
           }
          ],
          "contourcarpet": [
           {
            "colorbar": {
             "outlinewidth": 0,
             "ticks": ""
            },
            "type": "contourcarpet"
           }
          ],
          "heatmap": [
           {
            "colorbar": {
             "outlinewidth": 0,
             "ticks": ""
            },
            "colorscale": [
             [
              0,
              "#0d0887"
             ],
             [
              0.1111111111111111,
              "#46039f"
             ],
             [
              0.2222222222222222,
              "#7201a8"
             ],
             [
              0.3333333333333333,
              "#9c179e"
             ],
             [
              0.4444444444444444,
              "#bd3786"
             ],
             [
              0.5555555555555556,
              "#d8576b"
             ],
             [
              0.6666666666666666,
              "#ed7953"
             ],
             [
              0.7777777777777778,
              "#fb9f3a"
             ],
             [
              0.8888888888888888,
              "#fdca26"
             ],
             [
              1,
              "#f0f921"
             ]
            ],
            "type": "heatmap"
           }
          ],
          "histogram": [
           {
            "marker": {
             "pattern": {
              "fillmode": "overlay",
              "size": 10,
              "solidity": 0.2
             }
            },
            "type": "histogram"
           }
          ],
          "histogram2d": [
           {
            "colorbar": {
             "outlinewidth": 0,
             "ticks": ""
            },
            "colorscale": [
             [
              0,
              "#0d0887"
             ],
             [
              0.1111111111111111,
              "#46039f"
             ],
             [
              0.2222222222222222,
              "#7201a8"
             ],
             [
              0.3333333333333333,
              "#9c179e"
             ],
             [
              0.4444444444444444,
              "#bd3786"
             ],
             [
              0.5555555555555556,
              "#d8576b"
             ],
             [
              0.6666666666666666,
              "#ed7953"
             ],
             [
              0.7777777777777778,
              "#fb9f3a"
             ],
             [
              0.8888888888888888,
              "#fdca26"
             ],
             [
              1,
              "#f0f921"
             ]
            ],
            "type": "histogram2d"
           }
          ],
          "histogram2dcontour": [
           {
            "colorbar": {
             "outlinewidth": 0,
             "ticks": ""
            },
            "colorscale": [
             [
              0,
              "#0d0887"
             ],
             [
              0.1111111111111111,
              "#46039f"
             ],
             [
              0.2222222222222222,
              "#7201a8"
             ],
             [
              0.3333333333333333,
              "#9c179e"
             ],
             [
              0.4444444444444444,
              "#bd3786"
             ],
             [
              0.5555555555555556,
              "#d8576b"
             ],
             [
              0.6666666666666666,
              "#ed7953"
             ],
             [
              0.7777777777777778,
              "#fb9f3a"
             ],
             [
              0.8888888888888888,
              "#fdca26"
             ],
             [
              1,
              "#f0f921"
             ]
            ],
            "type": "histogram2dcontour"
           }
          ],
          "mesh3d": [
           {
            "colorbar": {
             "outlinewidth": 0,
             "ticks": ""
            },
            "type": "mesh3d"
           }
          ],
          "parcoords": [
           {
            "line": {
             "colorbar": {
              "outlinewidth": 0,
              "ticks": ""
             }
            },
            "type": "parcoords"
           }
          ],
          "pie": [
           {
            "automargin": true,
            "type": "pie"
           }
          ],
          "scatter": [
           {
            "fillpattern": {
             "fillmode": "overlay",
             "size": 10,
             "solidity": 0.2
            },
            "type": "scatter"
           }
          ],
          "scatter3d": [
           {
            "line": {
             "colorbar": {
              "outlinewidth": 0,
              "ticks": ""
             }
            },
            "marker": {
             "colorbar": {
              "outlinewidth": 0,
              "ticks": ""
             }
            },
            "type": "scatter3d"
           }
          ],
          "scattercarpet": [
           {
            "marker": {
             "colorbar": {
              "outlinewidth": 0,
              "ticks": ""
             }
            },
            "type": "scattercarpet"
           }
          ],
          "scattergeo": [
           {
            "marker": {
             "colorbar": {
              "outlinewidth": 0,
              "ticks": ""
             }
            },
            "type": "scattergeo"
           }
          ],
          "scattergl": [
           {
            "marker": {
             "colorbar": {
              "outlinewidth": 0,
              "ticks": ""
             }
            },
            "type": "scattergl"
           }
          ],
          "scattermap": [
           {
            "marker": {
             "colorbar": {
              "outlinewidth": 0,
              "ticks": ""
             }
            },
            "type": "scattermap"
           }
          ],
          "scattermapbox": [
           {
            "marker": {
             "colorbar": {
              "outlinewidth": 0,
              "ticks": ""
             }
            },
            "type": "scattermapbox"
           }
          ],
          "scatterpolar": [
           {
            "marker": {
             "colorbar": {
              "outlinewidth": 0,
              "ticks": ""
             }
            },
            "type": "scatterpolar"
           }
          ],
          "scatterpolargl": [
           {
            "marker": {
             "colorbar": {
              "outlinewidth": 0,
              "ticks": ""
             }
            },
            "type": "scatterpolargl"
           }
          ],
          "scatterternary": [
           {
            "marker": {
             "colorbar": {
              "outlinewidth": 0,
              "ticks": ""
             }
            },
            "type": "scatterternary"
           }
          ],
          "surface": [
           {
            "colorbar": {
             "outlinewidth": 0,
             "ticks": ""
            },
            "colorscale": [
             [
              0,
              "#0d0887"
             ],
             [
              0.1111111111111111,
              "#46039f"
             ],
             [
              0.2222222222222222,
              "#7201a8"
             ],
             [
              0.3333333333333333,
              "#9c179e"
             ],
             [
              0.4444444444444444,
              "#bd3786"
             ],
             [
              0.5555555555555556,
              "#d8576b"
             ],
             [
              0.6666666666666666,
              "#ed7953"
             ],
             [
              0.7777777777777778,
              "#fb9f3a"
             ],
             [
              0.8888888888888888,
              "#fdca26"
             ],
             [
              1,
              "#f0f921"
             ]
            ],
            "type": "surface"
           }
          ],
          "table": [
           {
            "cells": {
             "fill": {
              "color": "#EBF0F8"
             },
             "line": {
              "color": "white"
             }
            },
            "header": {
             "fill": {
              "color": "#C8D4E3"
             },
             "line": {
              "color": "white"
             }
            },
            "type": "table"
           }
          ]
         },
         "layout": {
          "annotationdefaults": {
           "arrowcolor": "#2a3f5f",
           "arrowhead": 0,
           "arrowwidth": 1
          },
          "autotypenumbers": "strict",
          "coloraxis": {
           "colorbar": {
            "outlinewidth": 0,
            "ticks": ""
           }
          },
          "colorscale": {
           "diverging": [
            [
             0,
             "#8e0152"
            ],
            [
             0.1,
             "#c51b7d"
            ],
            [
             0.2,
             "#de77ae"
            ],
            [
             0.3,
             "#f1b6da"
            ],
            [
             0.4,
             "#fde0ef"
            ],
            [
             0.5,
             "#f7f7f7"
            ],
            [
             0.6,
             "#e6f5d0"
            ],
            [
             0.7,
             "#b8e186"
            ],
            [
             0.8,
             "#7fbc41"
            ],
            [
             0.9,
             "#4d9221"
            ],
            [
             1,
             "#276419"
            ]
           ],
           "sequential": [
            [
             0,
             "#0d0887"
            ],
            [
             0.1111111111111111,
             "#46039f"
            ],
            [
             0.2222222222222222,
             "#7201a8"
            ],
            [
             0.3333333333333333,
             "#9c179e"
            ],
            [
             0.4444444444444444,
             "#bd3786"
            ],
            [
             0.5555555555555556,
             "#d8576b"
            ],
            [
             0.6666666666666666,
             "#ed7953"
            ],
            [
             0.7777777777777778,
             "#fb9f3a"
            ],
            [
             0.8888888888888888,
             "#fdca26"
            ],
            [
             1,
             "#f0f921"
            ]
           ],
           "sequentialminus": [
            [
             0,
             "#0d0887"
            ],
            [
             0.1111111111111111,
             "#46039f"
            ],
            [
             0.2222222222222222,
             "#7201a8"
            ],
            [
             0.3333333333333333,
             "#9c179e"
            ],
            [
             0.4444444444444444,
             "#bd3786"
            ],
            [
             0.5555555555555556,
             "#d8576b"
            ],
            [
             0.6666666666666666,
             "#ed7953"
            ],
            [
             0.7777777777777778,
             "#fb9f3a"
            ],
            [
             0.8888888888888888,
             "#fdca26"
            ],
            [
             1,
             "#f0f921"
            ]
           ]
          },
          "colorway": [
           "#636efa",
           "#EF553B",
           "#00cc96",
           "#ab63fa",
           "#FFA15A",
           "#19d3f3",
           "#FF6692",
           "#B6E880",
           "#FF97FF",
           "#FECB52"
          ],
          "font": {
           "color": "#2a3f5f"
          },
          "geo": {
           "bgcolor": "white",
           "lakecolor": "white",
           "landcolor": "#E5ECF6",
           "showlakes": true,
           "showland": true,
           "subunitcolor": "white"
          },
          "hoverlabel": {
           "align": "left"
          },
          "hovermode": "closest",
          "mapbox": {
           "style": "light"
          },
          "paper_bgcolor": "white",
          "plot_bgcolor": "#E5ECF6",
          "polar": {
           "angularaxis": {
            "gridcolor": "white",
            "linecolor": "white",
            "ticks": ""
           },
           "bgcolor": "#E5ECF6",
           "radialaxis": {
            "gridcolor": "white",
            "linecolor": "white",
            "ticks": ""
           }
          },
          "scene": {
           "xaxis": {
            "backgroundcolor": "#E5ECF6",
            "gridcolor": "white",
            "gridwidth": 2,
            "linecolor": "white",
            "showbackground": true,
            "ticks": "",
            "zerolinecolor": "white"
           },
           "yaxis": {
            "backgroundcolor": "#E5ECF6",
            "gridcolor": "white",
            "gridwidth": 2,
            "linecolor": "white",
            "showbackground": true,
            "ticks": "",
            "zerolinecolor": "white"
           },
           "zaxis": {
            "backgroundcolor": "#E5ECF6",
            "gridcolor": "white",
            "gridwidth": 2,
            "linecolor": "white",
            "showbackground": true,
            "ticks": "",
            "zerolinecolor": "white"
           }
          },
          "shapedefaults": {
           "line": {
            "color": "#2a3f5f"
           }
          },
          "ternary": {
           "aaxis": {
            "gridcolor": "white",
            "linecolor": "white",
            "ticks": ""
           },
           "baxis": {
            "gridcolor": "white",
            "linecolor": "white",
            "ticks": ""
           },
           "bgcolor": "#E5ECF6",
           "caxis": {
            "gridcolor": "white",
            "linecolor": "white",
            "ticks": ""
           }
          },
          "title": {
           "x": 0.05
          },
          "xaxis": {
           "automargin": true,
           "gridcolor": "white",
           "linecolor": "white",
           "ticks": "",
           "title": {
            "standoff": 15
           },
           "zerolinecolor": "white",
           "zerolinewidth": 2
          },
          "yaxis": {
           "automargin": true,
           "gridcolor": "white",
           "linecolor": "white",
           "ticks": "",
           "title": {
            "standoff": 15
           },
           "zerolinecolor": "white",
           "zerolinewidth": 2
          }
         }
        },
        "title": {
         "text": "Interactive Flowchart of Classes, Methods, and Attributes",
         "x": 0.5
        },
        "xaxis": {
         "showgrid": false,
         "showticklabels": false,
         "zeroline": false
        },
        "yaxis": {
         "showgrid": false,
         "showticklabels": false,
         "zeroline": false
        }
       }
      }
     },
     "metadata": {},
     "output_type": "display_data"
    }
   ],
   "source": [
    "import networkx as nx\n",
    "import plotly.graph_objects as go\n",
    "\n",
    "# Define categories\n",
    "classes = [\n",
    "    \"Vehicle (ABC)\", \"Car\", \"Bike\", \"Truck\", \"ElectricMixin\", \"ElectricCar\"\n",
    "]\n",
    "\n",
    "methods = [\n",
    "    \"start()\", \"stop()\", \"info() [abstract]\", \"info()\", \"honk()\", \n",
    "    \"wheelie()\", \"load()\", \"charge()\", \"battery_status()\"\n",
    "]\n",
    "\n",
    "attributes = [\n",
    "    \"brand\", \"model\", \"seats\", \"cc\", \"capacity\",\n",
    "    \"battery_capacity\", \"charge_level\"\n",
    "]\n",
    "\n",
    "# Define edges (relationships)\n",
    "edges = [\n",
    "    (\"Vehicle (ABC)\", \"brand\"),\n",
    "    (\"Vehicle (ABC)\", \"model\"),\n",
    "    (\"Vehicle (ABC)\", \"start()\"),\n",
    "    (\"Vehicle (ABC)\", \"stop()\"),\n",
    "    (\"Vehicle (ABC)\", \"info() [abstract]\"),\n",
    "\n",
    "    (\"Car\", \"seats\"),\n",
    "    (\"Car\", \"honk()\"),\n",
    "    (\"Car\", \"info()\"),\n",
    "    (\"Car\", \"Vehicle (ABC)\"),\n",
    "\n",
    "    (\"Bike\", \"cc\"),\n",
    "    (\"Bike\", \"wheelie()\"),\n",
    "    (\"Bike\", \"info()\"),\n",
    "    (\"Bike\", \"Vehicle (ABC)\"),\n",
    "\n",
    "    (\"Truck\", \"capacity\"),\n",
    "    (\"Truck\", \"load()\"),\n",
    "    (\"Truck\", \"info()\"),\n",
    "    (\"Truck\", \"Vehicle (ABC)\"),\n",
    "\n",
    "    (\"ElectricMixin\", \"battery_capacity\"),\n",
    "    (\"ElectricMixin\", \"charge_level\"),\n",
    "    (\"ElectricMixin\", \"charge()\"),\n",
    "    (\"ElectricMixin\", \"battery_status()\"),\n",
    "\n",
    "    (\"ElectricCar\", \"Car\"),\n",
    "    (\"ElectricCar\", \"ElectricMixin\"),\n",
    "    (\"ElectricCar\", \"info()\")\n",
    "]\n",
    "\n",
    "# Build graph\n",
    "G = nx.DiGraph()\n",
    "G.add_edges_from(edges)\n",
    "\n",
    "# Position nodes\n",
    "pos = nx.spring_layout(G, seed=42, k=1.2)\n",
    "\n",
    "# Assign categories for coloring\n",
    "def get_category(node):\n",
    "    if node in classes:\n",
    "        return \"Class\"\n",
    "    elif node in methods:\n",
    "        return \"Method\"\n",
    "    elif node in attributes:\n",
    "        return \"Attribute\"\n",
    "    return \"Other\"\n",
    "\n",
    "# Colors\n",
    "category_colors = {\"Class\": \"skyblue\", \"Method\": \"orange\", \"Attribute\": \"lightgreen\", \"Other\": \"lightgray\"}\n",
    "\n",
    "# Extract edges for plotly\n",
    "edge_x, edge_y = [], []\n",
    "for src, dst in G.edges():\n",
    "    x0, y0 = pos[src]\n",
    "    x1, y1 = pos[dst]\n",
    "    edge_x.extend([x0, x1, None])\n",
    "    edge_y.extend([y0, y1, None])\n",
    "\n",
    "edge_trace = go.Scatter(\n",
    "    x=edge_x, y=edge_y,\n",
    "    line=dict(width=1, color=\"gray\"),\n",
    "    hoverinfo=\"none\",\n",
    "    mode=\"lines\"\n",
    ")\n",
    "\n",
    "# Node traces by category\n",
    "node_traces = []\n",
    "for category, color in category_colors.items():\n",
    "    x, y, text = [], [], []\n",
    "    for node in G.nodes():\n",
    "        if get_category(node) == category:\n",
    "            x.append(pos[node][0])\n",
    "            y.append(pos[node][1])\n",
    "            text.append(node)\n",
    "    node_traces.append(\n",
    "        go.Scatter(\n",
    "            x=x, y=y,\n",
    "            mode=\"markers+text\",\n",
    "            text=text,\n",
    "            textposition=\"top center\",\n",
    "            hoverinfo=\"text\",\n",
    "            marker=dict(size=25, color=color, line_width=2),\n",
    "            name=category\n",
    "        )\n",
    "    )\n",
    "\n",
    "# Create figure\n",
    "fig = go.Figure(data=[edge_trace] + node_traces)\n",
    "\n",
    "fig.update_layout(\n",
    "    title=\"Interactive Flowchart of Classes, Methods, and Attributes\",\n",
    "    title_x=0.5,\n",
    "    showlegend=True,\n",
    "    legend=dict(x=1.05, y=1, bgcolor=\"rgba(255,255,255,0.7)\", bordercolor=\"black\"),\n",
    "    margin=dict(l=20, r=20, t=40, b=20),\n",
    "    xaxis=dict(showgrid=False, zeroline=False, showticklabels=False),\n",
    "    yaxis=dict(showgrid=False, zeroline=False, showticklabels=False),\n",
    "    plot_bgcolor=\"white\"\n",
    ")\n",
    "\n",
    "fig.show()\n"
   ]
  }
 ],
 "metadata": {
  "kernelspec": {
   "display_name": ".venv",
   "language": "python",
   "name": "python3"
  },
  "language_info": {
   "codemirror_mode": {
    "name": "ipython",
    "version": 3
   },
   "file_extension": ".py",
   "mimetype": "text/x-python",
   "name": "python",
   "nbconvert_exporter": "python",
   "pygments_lexer": "ipython3",
   "version": "3.13.7"
  }
 },
 "nbformat": 4,
 "nbformat_minor": 5
}
