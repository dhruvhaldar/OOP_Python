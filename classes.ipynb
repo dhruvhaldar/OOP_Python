{
 "cells": [
  {
   "cell_type": "markdown",
   "id": "b4aa0f98",
   "metadata": {},
   "source": [
    "# Python OOP and Interactive UML/Flowchart Documentation\n",
    "\n",
    "This document explains the code for creating a Python object-oriented class hierarchy with abstract classes, multiple inheritance, polymorphism, and interactive flowcharts using networkx and plotly."
   ]
  },
  {
   "cell_type": "markdown",
   "id": "38a752ea",
   "metadata": {},
   "source": [
    "## Imports"
   ]
  },
  {
   "cell_type": "code",
   "execution_count": 24,
   "id": "40cd2cc5",
   "metadata": {},
   "outputs": [],
   "source": [
    "from abc import ABC, abstractmethod\n",
    "import networkx as nx\n",
    "import plotly.graph_objects as go"
   ]
  },
  {
   "cell_type": "markdown",
   "id": "f3411d5b",
   "metadata": {},
   "source": [
    "`abc` (Abstract Base Classes): Used to define abstract classes in Python.\n",
    "\n",
    "`networkx`: Used to model the relationships between classes, methods, and attributes as a directed graph.\n",
    "\n",
    "`plotly.graph_objects`: Used for creating interactive visualizations like flowcharts."
   ]
  },
  {
   "cell_type": "markdown",
   "id": "661602a5",
   "metadata": {
    "vscode": {
     "languageId": "plaintext"
    }
   },
   "source": [
    "## Abstract Base Class"
   ]
  },
  {
   "cell_type": "markdown",
   "id": "b4cc5147",
   "metadata": {},
   "source": [
    "### Vehicle (ABC)\n",
    "\n",
    "### Purpose: Defines a common interface for all vehicles.\n",
    "\n",
    "### Attributes:\n",
    "\n",
    "    - `brand` (str): Manufacturer of the vehicle.\n",
    "\n",
    "    - `model` (str): Model name.\n",
    "\n",
    "### Methods:\n",
    "\n",
    "    - `start()`: Prints that the vehicle is starting.\n",
    "\n",
    "    - `stop()`: Prints that the vehicle is stopping.\n",
    "\n",
    "    - `info()`: Abstract method that must be implemented in subclasses.\n",
    "\n",
    "### Key Points\n",
    "\n",
    "`@abstractmethod` ensures every subclass (Car, Bike, Truck, ElectricCar, etc.) implements `start`, `stop`, and `info`.\n",
    "\n",
    "Promotes *polymorphism*: you can call the same method (start, stop, info) on different vehicle types, and each will behave appropriately.\n",
    "\n",
    "Supports *polymorphism*: fleet operations can treat all vehicles uniformly."
   ]
  },
  {
   "cell_type": "code",
   "execution_count": 25,
   "id": "f979438c",
   "metadata": {},
   "outputs": [],
   "source": [
    "class Vehicle(ABC):\n",
    "    \"\"\"\n",
    "    Abstract Base Class (ABC) for all vehicles.\n",
    "    \"\"\"\n",
    "\n",
    "    def __init__(self, brand: str, model: str):\n",
    "        \"\"\"\n",
    "        Initialize a Vehicle.\n",
    "\n",
    "        Args:\n",
    "            brand (str): Manufacturer.\n",
    "            model (str): Model name.\n",
    "        \"\"\"\n",
    "        # Concrete shared attributes\n",
    "        self.brand = brand\n",
    "        self.model = model\n",
    "\n",
    "        # Abstracted lifecycle state\n",
    "        self.started = 0\n",
    "\n",
    "    @abstractmethod\n",
    "    def start(self) -> str:\n",
    "        \"\"\"Start the vehicle using self attributes.\"\"\"\n",
    "        return f\"{self.brand} {self.model} is starting...\"\n",
    "\n",
    "    @abstractmethod\n",
    "    def stop(self) -> str:\n",
    "        \"\"\"Stop the vehicle using self attributes.\"\"\"\n",
    "        return f\"{self.brand} {self.model} is stopping.\"\n",
    "\n",
    "    @abstractmethod\n",
    "    def info(self) -> str:\n",
    "        \"\"\"Abstract method for vehicle information.\"\"\"\n",
    "        pass"
   ]
  },
  {
   "cell_type": "markdown",
   "id": "a3819cff",
   "metadata": {},
   "source": [
    " ## Electric Mixin \n",
    "#### Purpose\n",
    "\n",
    "Provides electric vehicle–specific features that can be mixed into other classes.\n",
    "Not intended to stand alone.\n",
    "\n",
    "#### Attributes\n",
    "\n",
    "battery_capacity (float): Battery size in kWh.\n",
    "\n",
    "#### Methods\n",
    "\n",
    "`charge()`: Simulates charging the vehicle.\n",
    "\n",
    "`battery_status()`: Reports current battery capacity.\n",
    "\n",
    "#### Key Point\n",
    "\n",
    "Not a derived class of Vehicle.\n",
    "\n",
    "Designed for *composition*: reusable electric functionality for any class that defines brand, model, and battery_capacity.\n",
    "\n",
    "#### Definition\n",
    "\n",
    "A *mixin* is usually a small, focused class that provides *extra functionality* which can be combined with other classes. It’s not meant to stand alone, but to be mixed in.\n",
    "\n",
    " not derived, just a helper mixin providing reusable features."
   ]
  },
  {
   "cell_type": "markdown",
   "id": "05fc5ac8",
   "metadata": {},
   "source": [
    "### ElectricMixin\n",
    "\n",
    "### Purpose: Adds electric vehicle features like battery capacity and charging.\n",
    "\n",
    "### Attributes:\n",
    "\n",
    "    - `battery_capacity`: Battery in kWh.\n",
    "\n",
    "    - `charge_level`: Battery charge percentage.\n",
    "\n",
    "### Methods:\n",
    "\n",
    "    - `charge(amount)`: Increase charge_level.\n",
    "\n",
    "    - `battery_status()`: Show current battery percentage.\n",
    "\n",
    "### Note:\n",
    "Mixin classes are not full vehicles—they are designed to be combined with other classes."
   ]
  },
  {
   "cell_type": "code",
   "execution_count": 26,
   "id": "c46a8e7e",
   "metadata": {},
   "outputs": [],
   "source": [
    "class ElectricMixin:\n",
    "\n",
    "    def __init__(self, battery_capacity: int):\n",
    "        \"\"\"\n",
    "        Args:\n",
    "            battery_capacity (int): Battery capacity in kWh.\n",
    "        \"\"\"\n",
    "        self.battery_capacity = battery_capacity\n",
    "        self.charge_level = 100  # %\n",
    "\n",
    "    def charge(self, amount: int) -> str:\n",
    "        \"\"\"\n",
    "        Charge the battery by increasing self.charge_level.\n",
    "\n",
    "        Args:\n",
    "            amount (int): Amount of charge to add (percentage).\n",
    "\n",
    "        Returns:\n",
    "            str: Current battery level.\n",
    "        \"\"\"\n",
    "        self.charge_level = min(100, self.charge_level + amount)\n",
    "        return f\"Battery charged to {self.charge_level}%\"\n",
    "\n",
    "    def battery_status(self) -> str:\n",
    "        \"\"\"Return current battery status using self attributes.\"\"\"\n",
    "        return f\"Battery: {self.charge_level}% ({self.battery_capacity} kWh)\""
   ]
  },
  {
   "cell_type": "markdown",
   "id": "9c32044b",
   "metadata": {},
   "source": [
    "### 4. Derived Classes\n",
    "\n",
    "#### 4.1 Car (Derived from Vehicle)\n",
    "#### Purpose\n",
    "\n",
    "Represents a *car-type vehicle*, inheriting from Vehicle.\n",
    "\n",
    "#### Attributes\n",
    "\n",
    "seats (int): Number of seats in the car.\n",
    "\n",
    "#### Methods\n",
    "\n",
    "`start()`: Starts the car (customized implementation).\n",
    "\n",
    "`stop()`: Stops the car.\n",
    "\n",
    "`info()`: Displays brand, model, and seat count.\n",
    "\n",
    "`honk()`: Honks the horn.\n",
    "\n",
    "#### 4.2 Bike (Derived from Vehicle)\n",
    "#### Purpose\n",
    "\n",
    "Represents a bike-type vehicle, inheriting from Vehicle.\n",
    "\n",
    "#### Attributes\n",
    "\n",
    "`engine_capacity (int)`: Engine displacement in cc.\n",
    "\n",
    "#### Methods\n",
    "\n",
    "`start()`: Starts the bike (with a distinct implementation).\n",
    "\n",
    "`stop()`: Stops the bike.\n",
    "\n",
    "`info()`: Displays brand, model, and engine capacity.\n",
    "\n",
    "`wheelie()`: Extra method unique to bikes.\n",
    "\n",
    "#### 4.3 Truck (Derived from Vehicle)\n",
    "#### Purpose\n",
    "\n",
    "Represents a truck-type vehicle, inheriting from Vehicle.\n",
    "\n",
    "#### Attributes\n",
    "\n",
    "`capacity (float)`: Load capacity in tons.\n",
    "\n",
    "#### Methods\n",
    "\n",
    "`start()`: Starts the truck.\n",
    "\n",
    "`stop()`: Stops the truck.\n",
    "\n",
    "`info()`: Displays brand, model, and capacity.\n",
    "\n",
    "`load()`: Truck-specific operation to simulate loading cargo.\n",
    "\n",
    "### Key Python Concept:\n",
    "`self` refers to the current object instance. Each instance has a unique memory address (`id(self)`)."
   ]
  },
  {
   "cell_type": "code",
   "execution_count": 27,
   "id": "c796e4cb",
   "metadata": {},
   "outputs": [],
   "source": [
    "class Car(Vehicle):\n",
    "    \"\"\"\n",
    "    Car class derived from Vehicle.\n",
    "\n",
    "    Attributes:\n",
    "        seats (int): Number of seats.\n",
    "    \"\"\"\n",
    "\n",
    "    def __init__(self, brand: str, model: str, seats: int):\n",
    "        super().__init__(brand, model)\n",
    "        self.seats = seats\n",
    "\n",
    "    def start(self) -> str:\n",
    "        self.started = 1\n",
    "        return f\"{self.brand} {self.model} (Car) is starting...\"\n",
    "\n",
    "    def stop(self) -> str:\n",
    "        self.started = 0\n",
    "        return f\"{self.brand} {self.model} (Car) is stopping.\"\n",
    "\n",
    "    def info(self) -> str:\n",
    "        \"\"\"Return details about the car using self attributes.\"\"\"\n",
    "        return f\"Car: {self.brand} {self.model}, Seats: {self.seats}\"\n",
    "\n",
    "    def honk(self) -> str:\n",
    "        \"\"\"Car-specific behavior showing object identity with id(self).\"\"\"\n",
    "        return f\"{self.brand} {self.model} says: Beep beep! (id={id(self)})\"\n",
    "\n",
    "class Bike(Vehicle):\n",
    "    \"\"\"\n",
    "    Bike class derived from Vehicle.\n",
    "\n",
    "    Attributes:\n",
    "        cc (int): Engine displacement in cubic centimeters.\n",
    "    \"\"\"\n",
    "\n",
    "    def __init__(self, brand: str, model: str, cc: int):\n",
    "        super().__init__(brand, model)\n",
    "        self.cc = cc\n",
    "\n",
    "    def start(self) -> str:\n",
    "        self.started = 1\n",
    "        return f\"{self.brand} {self.model} (Bike) is roaring to life!\"\n",
    "\n",
    "    def stop(self) -> str:\n",
    "        self.started = 0\n",
    "        return f\"{self.brand} {self.model} (Bike) is stopping.\"\n",
    "\n",
    "    def info(self) -> str:\n",
    "        \"\"\"Return details about the bike.\"\"\"\n",
    "        return f\"Bike: {self.brand} {self.model}, Engine: {self.cc}cc\"\n",
    "\n",
    "    def wheelie(self) -> str:\n",
    "        \"\"\"Bike-specific behavior.\"\"\"\n",
    "        return f\"{self.brand} {self.model} is doing a wheelie! (id={id(self)})\"\n",
    "\n",
    "\n",
    "class Truck(Vehicle):\n",
    "    \"\"\"\n",
    "    Truck class derived from Vehicle.\n",
    "\n",
    "    Attributes:\n",
    "        capacity (int): Load capacity in tons.\n",
    "    \"\"\"\n",
    "\n",
    "    def __init__(self, brand: str, model: str, capacity: int):\n",
    "        super().__init__(brand, model)\n",
    "        self.capacity = capacity\n",
    "\n",
    "    def start(self) -> str:\n",
    "        self.started = 1\n",
    "        return f\"{self.brand} {self.model} (Truck) is starting...\"\n",
    "\n",
    "    def stop(self) -> str:\n",
    "        self.started = 0\n",
    "        return f\"{self.brand} {self.model} (Truck) is stopping.\"\n",
    "\n",
    "    def info(self) -> str:\n",
    "        \"\"\"Return details about the truck.\"\"\"\n",
    "        return f\"Truck: {self.brand} {self.model}, Capacity: {self.capacity} tons\"\n",
    "\n",
    "    def load(self) -> str:\n",
    "        \"\"\"Truck-specific behavior.\"\"\"\n",
    "        return f\"{self.brand} {self.model} is loading cargo. (id={id(self)})\""
   ]
  },
  {
   "cell_type": "markdown",
   "id": "6d7aec12",
   "metadata": {},
   "source": [
    "## ElectricCar (Derived from Vehicle + ElectricMixin)\n",
    "### Purpose\n",
    "\n",
    "Represents an electric car, combining Vehicle’s contract with ElectricMixin’s electric features.\n",
    "\n",
    "### Attributes\n",
    "\n",
    "- seats (int): Number of seats.\n",
    "\n",
    "- battery_capacity (float): Size of the battery in kWh.\n",
    "\n",
    "### Methods\n",
    "\n",
    "- start(): Powers up silently (electric-specific start).\n",
    "\n",
    "- stop(): Shuts down the electric car.\n",
    "\n",
    "- info(): Displays brand, model, seat count, and battery size.\n",
    "\n",
    "- charge(): From ElectricMixin — charges the car.\n",
    "\n",
    "- battery_status(): From ElectricMixin — displays battery capacity."
   ]
  },
  {
   "cell_type": "code",
   "execution_count": 28,
   "id": "92c5fdc0",
   "metadata": {},
   "outputs": [],
   "source": [
    "class ElectricCar(Car, ElectricMixin):\n",
    "    def __init__(self, brand: str, model: str, seats: int, battery_capacity: int):\n",
    "        Car.__init__(self, brand, model, seats)\n",
    "        ElectricMixin.__init__(self, battery_capacity)\n",
    "\n",
    "    def start(self) -> str:\n",
    "        self.started = 1\n",
    "        return f\"{self.brand} {self.model} (Electric Car) is powering up silently...\"\n",
    "\n",
    "    def stop(self) -> str:\n",
    "        self.started = 0\n",
    "        return f\"{self.brand} {self.model} (Electric Car) is shutting down.\"\n",
    "\n",
    "    def info(self) -> str:\n",
    "        return (f\"Electric Car: {self.brand} {self.model}, \"\n",
    "                f\"Seats: {self.seats}, Battery: {self.battery_capacity} kWh\")"
   ]
  },
  {
   "cell_type": "markdown",
   "id": "5928ea89",
   "metadata": {},
   "source": [
    "## Demonstration of polymorphism and self\n",
    "- Each class has its own `info()` method.\n",
    "- Polymorphism allows calling `v.info()` without knowing the actual type.\n",
    "- self ensures that methods access the correct instance data."
   ]
  },
  {
   "cell_type": "code",
   "execution_count": 29,
   "id": "871244c1",
   "metadata": {},
   "outputs": [
    {
     "name": "stdout",
     "output_type": "stream",
     "text": [
      "Toyota Camry (Car) is starting...\n",
      "Car: Toyota Camry, Seats: 5\n",
      "Object memory id: 138357541502464\n",
      "Toyota Camry (Car) is stopping.\n",
      "--------------------------------------------------\n",
      "Yamaha R15 (Bike) is roaring to life!\n",
      "Bike: Yamaha R15, Engine: 150cc\n",
      "Object memory id: 138357540847696\n",
      "Yamaha R15 (Bike) is stopping.\n",
      "--------------------------------------------------\n",
      "Volvo FH16 (Truck) is starting...\n",
      "Truck: Volvo FH16, Capacity: 20 tons\n",
      "Object memory id: 138357540848032\n",
      "Volvo FH16 (Truck) is stopping.\n",
      "--------------------------------------------------\n",
      "Tesla Model 3 (Electric Car) is powering up silently...\n",
      "Electric Car: Tesla Model 3, Seats: 5, Battery: 75 kWh\n",
      "Object memory id: 138357540848704\n",
      "Tesla Model 3 (Electric Car) is shutting down.\n",
      "--------------------------------------------------\n",
      "Toyota Camry says: Beep beep! (id=138357541502464)\n",
      "Yamaha R15 is doing a wheelie! (id=138357540847696)\n",
      "Volvo FH16 is loading cargo. (id=138357540848032)\n",
      "Battery charged to 100%\n",
      "Battery: 100% (75 kWh)\n"
     ]
    }
   ],
   "source": [
    "vehicles = [\n",
    "    Car(\"Toyota\", \"Camry\", 5),\n",
    "    Bike(\"Yamaha\", \"R15\", 150),\n",
    "    Truck(\"Volvo\", \"FH16\", 20),\n",
    "    ElectricCar(\"Tesla\", \"Model 3\", 5, 75)\n",
    "]\n",
    "\n",
    "for v in vehicles:\n",
    "    print(v.start())       # uses self.brand, self.model\n",
    "    print(v.info())        # polymorphism: each subclass has its own version\n",
    "    print(f\"Object memory id: {id(v)}\")  # self's identity in memory\n",
    "    print(v.stop())\n",
    "    print(\"-\" * 50)\n",
    "\n",
    "# Unique behaviors\n",
    "print(vehicles[0].honk())\n",
    "print(vehicles[1].wheelie())\n",
    "print(vehicles[2].load())\n",
    "print(vehicles[3].charge(20))\n",
    "print(vehicles[3].battery_status())"
   ]
  },
  {
   "cell_type": "markdown",
   "id": "461174a2",
   "metadata": {},
   "source": [
    "### 🧩 Why `self` Matters\n",
    "#### Bad example \n",
    "    - Forgetting `self` in method definitions causes errors.\n",
    "    - Python won’t know which object’s attributes to reference.\n",
    "\n",
    "#### Good example\n",
    "    - Always include `self` in method definitions.\n",
    "    - Using `self` ensures each instance stores its own data.\n"
   ]
  },
  {
   "cell_type": "markdown",
   "id": "77d2cedd",
   "metadata": {},
   "source": [
    "`self` is the way Python methods refer to the current object.\n",
    "\n",
    "If you forget `self`, Python will treat arguments incorrectly and throw an error.\n",
    "\n",
    "Each object has its own memory id (you can see it with `id(self)`), proving that self points to that unique object.\n",
    "\n",
    "BadCar shows what breaks without `self`, while GoodCar shows the correct pattern."
   ]
  },
  {
   "cell_type": "code",
   "execution_count": 30,
   "id": "27109999",
   "metadata": {},
   "outputs": [
    {
     "name": "stdout",
     "output_type": "stream",
     "text": [
      "Error caused by missing self: BadCar.__init__() takes 2 positional arguments but 3 were given\n",
      "Ford Focus says: Beep beep!\n"
     ]
    }
   ],
   "source": [
    "class BadCar:\n",
    "    \"\"\"Example of forgetting self in method definitions (incorrect).\"\"\"\n",
    "\n",
    "    def __init__(brand, model):  # ❌ Forgot 'self'\n",
    "        brand.name = brand       # This will cause confusion\n",
    "        brand.model = model\n",
    "\n",
    "    def honk():  # ❌ Forgot 'self'\n",
    "        return \"Beep beep!\"\n",
    "\n",
    "# Trying to create a BadCar will raise errors\n",
    "try:\n",
    "    bad = BadCar(\"Ford\", \"Focus\")\n",
    "    print(bad.honk())\n",
    "except Exception as e:\n",
    "    print(\"Error caused by missing self:\", e)\n",
    "\n",
    "\n",
    "class GoodCar:\n",
    "    \"\"\"Correct usage with self.\"\"\"\n",
    "\n",
    "    def __init__(self, brand, model):\n",
    "        self.brand = brand\n",
    "        self.model = model\n",
    "\n",
    "    def honk(self):\n",
    "        return f\"{self.brand} {self.model} says: Beep beep!\"\n",
    "\n",
    "good = GoodCar(\"Ford\", \"Focus\")\n",
    "print(good.honk())"
   ]
  },
  {
   "cell_type": "markdown",
   "id": "43949565",
   "metadata": {},
   "source": [
    "## 1. Interactive Flowchart"
   ]
  },
  {
   "cell_type": "code",
   "execution_count": null,
   "id": "58cbf13a",
   "metadata": {},
   "outputs": [
    {
     "data": {
      "application/vnd.plotly.v1+json": {
       "config": {
        "plotlyServerURL": "https://plot.ly"
       },
       "data": [
        {
         "hoverinfo": "text",
         "marker": {
          "color": "skyblue",
          "line": {
           "width": 2
          },
          "size": 25
         },
         "mode": "markers+text",
         "name": "Class",
         "text": [
          "Vehicle (ABC)",
          "Car",
          "Bike",
          "Truck",
          "ElectricMixin",
          "ElectricCar"
         ],
         "textposition": "top center",
         "type": "scatter",
         "x": [
          -0.16576925075581608,
          0.032704570484978816,
          -0.06135503061984498,
          0.03617953051176418,
          0.20342355011312244,
          -0.4134518461227098
         ],
         "y": [
          0.37356580159180713,
          0.033643271201898556,
          -0.07459473772132377,
          -0.3258430655013698,
          0.26554123600106944,
          -0.17102317686275237
         ]
        },
        {
         "hoverinfo": "text",
         "marker": {
          "color": "orange",
          "line": {
           "width": 2
          },
          "size": 25
         },
         "mode": "markers+text",
         "name": "Method",
         "text": [
          "start() [abstract]",
          "stop() [abstract]",
          "info() [abstract]",
          "honk()",
          "info()",
          "wheelie()",
          "load()",
          "charge()",
          "battery_status()"
         ],
         "textposition": "top center",
         "type": "scatter",
         "x": [
          -0.9787847821428924,
          0.6240923474859669,
          -0.7626775108933275,
          -0.4473275251145622,
          0.08910819953357192,
          0.2807750033676002,
          0.8029274095638953,
          -0.25738237128756664,
          0.9842204744634403
         ],
         "y": [
          0.46286135560770686,
          0.8257322486539735,
          0.8693384728910157,
          0.8110296143940207,
          -0.9178376208336456,
          1,
          -0.522140786291655,
          -0.9711678326113875,
          -0.06792802764298216
         ]
        },
        {
         "hoverinfo": "text",
         "marker": {
          "color": "lightgreen",
          "line": {
           "width": 2
          },
          "size": 25
         },
         "mode": "markers+text",
         "name": "Attribute",
         "text": [
          "brand",
          "model",
          "seats",
          "engine_capacity",
          "capacity",
          "battery_capacity"
         ],
         "textposition": "top center",
         "type": "scatter",
         "x": [
          0.983553164726749,
          -0.5997980795866221,
          -0.9577997032587097,
          -0.7564635499041726,
          0.412195782320593,
          0.9516296171145415
         ],
         "y": [
          0.304171938189556,
          -0.8201331650072702,
          -0.2575248871766994,
          -0.5355768658985958,
          -0.9343588498879536,
          0.6522450769045871
         ]
        },
        {
         "hoverinfo": "text",
         "marker": {
          "color": "lightgray",
          "line": {
           "width": 2
          },
          "size": 25
         },
         "mode": "markers+text",
         "name": "Other",
         "text": [],
         "textposition": "top center",
         "type": "scatter",
         "x": [],
         "y": []
        },
        {
         "line": {
          "color": "blue",
          "width": 2
         },
         "mode": "lines",
         "name": "Inheritance edge",
         "type": "scatter",
         "x": [
          null
         ],
         "y": [
          null
         ]
        },
        {
         "line": {
          "color": "green",
          "width": 2
         },
         "mode": "lines",
         "name": "Composition edge",
         "type": "scatter",
         "x": [
          null
         ],
         "y": [
          null
         ]
        }
       ],
       "layout": {
        "annotations": [
         {
          "arrowcolor": "green",
          "arrowhead": 3,
          "arrowsize": 1.2,
          "arrowwidth": 1.5,
          "ax": -0.16576925075581608,
          "axref": "x",
          "ay": 0.37356580159180713,
          "ayref": "y",
          "showarrow": true,
          "x": 0.983553164726749,
          "xref": "x",
          "y": 0.304171938189556,
          "yref": "y"
         },
         {
          "arrowcolor": "green",
          "arrowhead": 3,
          "arrowsize": 1.2,
          "arrowwidth": 1.5,
          "ax": -0.16576925075581608,
          "axref": "x",
          "ay": 0.37356580159180713,
          "ayref": "y",
          "showarrow": true,
          "x": -0.5997980795866221,
          "xref": "x",
          "y": -0.8201331650072702,
          "yref": "y"
         },
         {
          "arrowcolor": "green",
          "arrowhead": 3,
          "arrowsize": 1.2,
          "arrowwidth": 1.5,
          "ax": -0.16576925075581608,
          "axref": "x",
          "ay": 0.37356580159180713,
          "ayref": "y",
          "showarrow": true,
          "x": -0.9787847821428924,
          "xref": "x",
          "y": 0.46286135560770686,
          "yref": "y"
         },
         {
          "arrowcolor": "green",
          "arrowhead": 3,
          "arrowsize": 1.2,
          "arrowwidth": 1.5,
          "ax": -0.16576925075581608,
          "axref": "x",
          "ay": 0.37356580159180713,
          "ayref": "y",
          "showarrow": true,
          "x": 0.6240923474859669,
          "xref": "x",
          "y": 0.8257322486539735,
          "yref": "y"
         },
         {
          "arrowcolor": "green",
          "arrowhead": 3,
          "arrowsize": 1.2,
          "arrowwidth": 1.5,
          "ax": -0.16576925075581608,
          "axref": "x",
          "ay": 0.37356580159180713,
          "ayref": "y",
          "showarrow": true,
          "x": -0.7626775108933275,
          "xref": "x",
          "y": 0.8693384728910157,
          "yref": "y"
         },
         {
          "arrowcolor": "green",
          "arrowhead": 3,
          "arrowsize": 1.2,
          "arrowwidth": 1.5,
          "ax": 0.032704570484978816,
          "axref": "x",
          "ay": 0.033643271201898556,
          "ayref": "y",
          "showarrow": true,
          "x": -0.9577997032587097,
          "xref": "x",
          "y": -0.2575248871766994,
          "yref": "y"
         },
         {
          "arrowcolor": "green",
          "arrowhead": 3,
          "arrowsize": 1.2,
          "arrowwidth": 1.5,
          "ax": 0.032704570484978816,
          "axref": "x",
          "ay": 0.033643271201898556,
          "ayref": "y",
          "showarrow": true,
          "x": -0.4473275251145622,
          "xref": "x",
          "y": 0.8110296143940207,
          "yref": "y"
         },
         {
          "arrowcolor": "green",
          "arrowhead": 3,
          "arrowsize": 1.2,
          "arrowwidth": 1.5,
          "ax": 0.032704570484978816,
          "axref": "x",
          "ay": 0.033643271201898556,
          "ayref": "y",
          "showarrow": true,
          "x": 0.08910819953357192,
          "xref": "x",
          "y": -0.9178376208336456,
          "yref": "y"
         },
         {
          "arrowcolor": "blue",
          "arrowhead": 3,
          "arrowsize": 1.2,
          "arrowwidth": 1.5,
          "ax": 0.032704570484978816,
          "axref": "x",
          "ay": 0.033643271201898556,
          "ayref": "y",
          "showarrow": true,
          "x": -0.16576925075581608,
          "xref": "x",
          "y": 0.37356580159180713,
          "yref": "y"
         },
         {
          "arrowcolor": "green",
          "arrowhead": 3,
          "arrowsize": 1.2,
          "arrowwidth": 1.5,
          "ax": -0.06135503061984498,
          "axref": "x",
          "ay": -0.07459473772132377,
          "ayref": "y",
          "showarrow": true,
          "x": -0.7564635499041726,
          "xref": "x",
          "y": -0.5355768658985958,
          "yref": "y"
         },
         {
          "arrowcolor": "green",
          "arrowhead": 3,
          "arrowsize": 1.2,
          "arrowwidth": 1.5,
          "ax": -0.06135503061984498,
          "axref": "x",
          "ay": -0.07459473772132377,
          "ayref": "y",
          "showarrow": true,
          "x": 0.2807750033676002,
          "xref": "x",
          "y": 1,
          "yref": "y"
         },
         {
          "arrowcolor": "green",
          "arrowhead": 3,
          "arrowsize": 1.2,
          "arrowwidth": 1.5,
          "ax": -0.06135503061984498,
          "axref": "x",
          "ay": -0.07459473772132377,
          "ayref": "y",
          "showarrow": true,
          "x": 0.08910819953357192,
          "xref": "x",
          "y": -0.9178376208336456,
          "yref": "y"
         },
         {
          "arrowcolor": "blue",
          "arrowhead": 3,
          "arrowsize": 1.2,
          "arrowwidth": 1.5,
          "ax": -0.06135503061984498,
          "axref": "x",
          "ay": -0.07459473772132377,
          "ayref": "y",
          "showarrow": true,
          "x": -0.16576925075581608,
          "xref": "x",
          "y": 0.37356580159180713,
          "yref": "y"
         },
         {
          "arrowcolor": "green",
          "arrowhead": 3,
          "arrowsize": 1.2,
          "arrowwidth": 1.5,
          "ax": 0.03617953051176418,
          "axref": "x",
          "ay": -0.3258430655013698,
          "ayref": "y",
          "showarrow": true,
          "x": 0.412195782320593,
          "xref": "x",
          "y": -0.9343588498879536,
          "yref": "y"
         },
         {
          "arrowcolor": "green",
          "arrowhead": 3,
          "arrowsize": 1.2,
          "arrowwidth": 1.5,
          "ax": 0.03617953051176418,
          "axref": "x",
          "ay": -0.3258430655013698,
          "ayref": "y",
          "showarrow": true,
          "x": 0.8029274095638953,
          "xref": "x",
          "y": -0.522140786291655,
          "yref": "y"
         },
         {
          "arrowcolor": "green",
          "arrowhead": 3,
          "arrowsize": 1.2,
          "arrowwidth": 1.5,
          "ax": 0.03617953051176418,
          "axref": "x",
          "ay": -0.3258430655013698,
          "ayref": "y",
          "showarrow": true,
          "x": 0.08910819953357192,
          "xref": "x",
          "y": -0.9178376208336456,
          "yref": "y"
         },
         {
          "arrowcolor": "blue",
          "arrowhead": 3,
          "arrowsize": 1.2,
          "arrowwidth": 1.5,
          "ax": 0.03617953051176418,
          "axref": "x",
          "ay": -0.3258430655013698,
          "ayref": "y",
          "showarrow": true,
          "x": -0.16576925075581608,
          "xref": "x",
          "y": 0.37356580159180713,
          "yref": "y"
         },
         {
          "arrowcolor": "green",
          "arrowhead": 3,
          "arrowsize": 1.2,
          "arrowwidth": 1.5,
          "ax": 0.20342355011312244,
          "axref": "x",
          "ay": 0.26554123600106944,
          "ayref": "y",
          "showarrow": true,
          "x": 0.9516296171145415,
          "xref": "x",
          "y": 0.6522450769045871,
          "yref": "y"
         },
         {
          "arrowcolor": "green",
          "arrowhead": 3,
          "arrowsize": 1.2,
          "arrowwidth": 1.5,
          "ax": 0.20342355011312244,
          "axref": "x",
          "ay": 0.26554123600106944,
          "ayref": "y",
          "showarrow": true,
          "x": -0.25738237128756664,
          "xref": "x",
          "y": -0.9711678326113875,
          "yref": "y"
         },
         {
          "arrowcolor": "green",
          "arrowhead": 3,
          "arrowsize": 1.2,
          "arrowwidth": 1.5,
          "ax": 0.20342355011312244,
          "axref": "x",
          "ay": 0.26554123600106944,
          "ayref": "y",
          "showarrow": true,
          "x": 0.9842204744634403,
          "xref": "x",
          "y": -0.06792802764298216,
          "yref": "y"
         },
         {
          "arrowcolor": "blue",
          "arrowhead": 3,
          "arrowsize": 1.2,
          "arrowwidth": 1.5,
          "ax": -0.4134518461227098,
          "axref": "x",
          "ay": -0.17102317686275237,
          "ayref": "y",
          "showarrow": true,
          "x": -0.16576925075581608,
          "xref": "x",
          "y": 0.37356580159180713,
          "yref": "y"
         },
         {
          "arrowcolor": "blue",
          "arrowhead": 3,
          "arrowsize": 1.2,
          "arrowwidth": 1.5,
          "ax": -0.4134518461227098,
          "axref": "x",
          "ay": -0.17102317686275237,
          "ayref": "y",
          "showarrow": true,
          "x": 0.20342355011312244,
          "xref": "x",
          "y": 0.26554123600106944,
          "yref": "y"
         },
         {
          "arrowcolor": "green",
          "arrowhead": 3,
          "arrowsize": 1.2,
          "arrowwidth": 1.5,
          "ax": -0.4134518461227098,
          "axref": "x",
          "ay": -0.17102317686275237,
          "ayref": "y",
          "showarrow": true,
          "x": -0.9577997032587097,
          "xref": "x",
          "y": -0.2575248871766994,
          "yref": "y"
         },
         {
          "arrowcolor": "green",
          "arrowhead": 3,
          "arrowsize": 1.2,
          "arrowwidth": 1.5,
          "ax": -0.4134518461227098,
          "axref": "x",
          "ay": -0.17102317686275237,
          "ayref": "y",
          "showarrow": true,
          "x": 0.08910819953357192,
          "xref": "x",
          "y": -0.9178376208336456,
          "yref": "y"
         }
        ],
        "legend": {
         "bgcolor": "rgba(255,255,255,0.7)",
         "bordercolor": "black",
         "x": 1.05,
         "y": 1
        },
        "margin": {
         "b": 20,
         "l": 20,
         "r": 20,
         "t": 40
        },
        "plot_bgcolor": "white",
        "showlegend": true,
        "template": {
         "data": {
          "bar": [
           {
            "error_x": {
             "color": "#2a3f5f"
            },
            "error_y": {
             "color": "#2a3f5f"
            },
            "marker": {
             "line": {
              "color": "#E5ECF6",
              "width": 0.5
             },
             "pattern": {
              "fillmode": "overlay",
              "size": 10,
              "solidity": 0.2
             }
            },
            "type": "bar"
           }
          ],
          "barpolar": [
           {
            "marker": {
             "line": {
              "color": "#E5ECF6",
              "width": 0.5
             },
             "pattern": {
              "fillmode": "overlay",
              "size": 10,
              "solidity": 0.2
             }
            },
            "type": "barpolar"
           }
          ],
          "carpet": [
           {
            "aaxis": {
             "endlinecolor": "#2a3f5f",
             "gridcolor": "white",
             "linecolor": "white",
             "minorgridcolor": "white",
             "startlinecolor": "#2a3f5f"
            },
            "baxis": {
             "endlinecolor": "#2a3f5f",
             "gridcolor": "white",
             "linecolor": "white",
             "minorgridcolor": "white",
             "startlinecolor": "#2a3f5f"
            },
            "type": "carpet"
           }
          ],
          "choropleth": [
           {
            "colorbar": {
             "outlinewidth": 0,
             "ticks": ""
            },
            "type": "choropleth"
           }
          ],
          "contour": [
           {
            "colorbar": {
             "outlinewidth": 0,
             "ticks": ""
            },
            "colorscale": [
             [
              0,
              "#0d0887"
             ],
             [
              0.1111111111111111,
              "#46039f"
             ],
             [
              0.2222222222222222,
              "#7201a8"
             ],
             [
              0.3333333333333333,
              "#9c179e"
             ],
             [
              0.4444444444444444,
              "#bd3786"
             ],
             [
              0.5555555555555556,
              "#d8576b"
             ],
             [
              0.6666666666666666,
              "#ed7953"
             ],
             [
              0.7777777777777778,
              "#fb9f3a"
             ],
             [
              0.8888888888888888,
              "#fdca26"
             ],
             [
              1,
              "#f0f921"
             ]
            ],
            "type": "contour"
           }
          ],
          "contourcarpet": [
           {
            "colorbar": {
             "outlinewidth": 0,
             "ticks": ""
            },
            "type": "contourcarpet"
           }
          ],
          "heatmap": [
           {
            "colorbar": {
             "outlinewidth": 0,
             "ticks": ""
            },
            "colorscale": [
             [
              0,
              "#0d0887"
             ],
             [
              0.1111111111111111,
              "#46039f"
             ],
             [
              0.2222222222222222,
              "#7201a8"
             ],
             [
              0.3333333333333333,
              "#9c179e"
             ],
             [
              0.4444444444444444,
              "#bd3786"
             ],
             [
              0.5555555555555556,
              "#d8576b"
             ],
             [
              0.6666666666666666,
              "#ed7953"
             ],
             [
              0.7777777777777778,
              "#fb9f3a"
             ],
             [
              0.8888888888888888,
              "#fdca26"
             ],
             [
              1,
              "#f0f921"
             ]
            ],
            "type": "heatmap"
           }
          ],
          "histogram": [
           {
            "marker": {
             "pattern": {
              "fillmode": "overlay",
              "size": 10,
              "solidity": 0.2
             }
            },
            "type": "histogram"
           }
          ],
          "histogram2d": [
           {
            "colorbar": {
             "outlinewidth": 0,
             "ticks": ""
            },
            "colorscale": [
             [
              0,
              "#0d0887"
             ],
             [
              0.1111111111111111,
              "#46039f"
             ],
             [
              0.2222222222222222,
              "#7201a8"
             ],
             [
              0.3333333333333333,
              "#9c179e"
             ],
             [
              0.4444444444444444,
              "#bd3786"
             ],
             [
              0.5555555555555556,
              "#d8576b"
             ],
             [
              0.6666666666666666,
              "#ed7953"
             ],
             [
              0.7777777777777778,
              "#fb9f3a"
             ],
             [
              0.8888888888888888,
              "#fdca26"
             ],
             [
              1,
              "#f0f921"
             ]
            ],
            "type": "histogram2d"
           }
          ],
          "histogram2dcontour": [
           {
            "colorbar": {
             "outlinewidth": 0,
             "ticks": ""
            },
            "colorscale": [
             [
              0,
              "#0d0887"
             ],
             [
              0.1111111111111111,
              "#46039f"
             ],
             [
              0.2222222222222222,
              "#7201a8"
             ],
             [
              0.3333333333333333,
              "#9c179e"
             ],
             [
              0.4444444444444444,
              "#bd3786"
             ],
             [
              0.5555555555555556,
              "#d8576b"
             ],
             [
              0.6666666666666666,
              "#ed7953"
             ],
             [
              0.7777777777777778,
              "#fb9f3a"
             ],
             [
              0.8888888888888888,
              "#fdca26"
             ],
             [
              1,
              "#f0f921"
             ]
            ],
            "type": "histogram2dcontour"
           }
          ],
          "mesh3d": [
           {
            "colorbar": {
             "outlinewidth": 0,
             "ticks": ""
            },
            "type": "mesh3d"
           }
          ],
          "parcoords": [
           {
            "line": {
             "colorbar": {
              "outlinewidth": 0,
              "ticks": ""
             }
            },
            "type": "parcoords"
           }
          ],
          "pie": [
           {
            "automargin": true,
            "type": "pie"
           }
          ],
          "scatter": [
           {
            "fillpattern": {
             "fillmode": "overlay",
             "size": 10,
             "solidity": 0.2
            },
            "type": "scatter"
           }
          ],
          "scatter3d": [
           {
            "line": {
             "colorbar": {
              "outlinewidth": 0,
              "ticks": ""
             }
            },
            "marker": {
             "colorbar": {
              "outlinewidth": 0,
              "ticks": ""
             }
            },
            "type": "scatter3d"
           }
          ],
          "scattercarpet": [
           {
            "marker": {
             "colorbar": {
              "outlinewidth": 0,
              "ticks": ""
             }
            },
            "type": "scattercarpet"
           }
          ],
          "scattergeo": [
           {
            "marker": {
             "colorbar": {
              "outlinewidth": 0,
              "ticks": ""
             }
            },
            "type": "scattergeo"
           }
          ],
          "scattergl": [
           {
            "marker": {
             "colorbar": {
              "outlinewidth": 0,
              "ticks": ""
             }
            },
            "type": "scattergl"
           }
          ],
          "scattermap": [
           {
            "marker": {
             "colorbar": {
              "outlinewidth": 0,
              "ticks": ""
             }
            },
            "type": "scattermap"
           }
          ],
          "scattermapbox": [
           {
            "marker": {
             "colorbar": {
              "outlinewidth": 0,
              "ticks": ""
             }
            },
            "type": "scattermapbox"
           }
          ],
          "scatterpolar": [
           {
            "marker": {
             "colorbar": {
              "outlinewidth": 0,
              "ticks": ""
             }
            },
            "type": "scatterpolar"
           }
          ],
          "scatterpolargl": [
           {
            "marker": {
             "colorbar": {
              "outlinewidth": 0,
              "ticks": ""
             }
            },
            "type": "scatterpolargl"
           }
          ],
          "scatterternary": [
           {
            "marker": {
             "colorbar": {
              "outlinewidth": 0,
              "ticks": ""
             }
            },
            "type": "scatterternary"
           }
          ],
          "surface": [
           {
            "colorbar": {
             "outlinewidth": 0,
             "ticks": ""
            },
            "colorscale": [
             [
              0,
              "#0d0887"
             ],
             [
              0.1111111111111111,
              "#46039f"
             ],
             [
              0.2222222222222222,
              "#7201a8"
             ],
             [
              0.3333333333333333,
              "#9c179e"
             ],
             [
              0.4444444444444444,
              "#bd3786"
             ],
             [
              0.5555555555555556,
              "#d8576b"
             ],
             [
              0.6666666666666666,
              "#ed7953"
             ],
             [
              0.7777777777777778,
              "#fb9f3a"
             ],
             [
              0.8888888888888888,
              "#fdca26"
             ],
             [
              1,
              "#f0f921"
             ]
            ],
            "type": "surface"
           }
          ],
          "table": [
           {
            "cells": {
             "fill": {
              "color": "#EBF0F8"
             },
             "line": {
              "color": "white"
             }
            },
            "header": {
             "fill": {
              "color": "#C8D4E3"
             },
             "line": {
              "color": "white"
             }
            },
            "type": "table"
           }
          ]
         },
         "layout": {
          "annotationdefaults": {
           "arrowcolor": "#2a3f5f",
           "arrowhead": 0,
           "arrowwidth": 1
          },
          "autotypenumbers": "strict",
          "coloraxis": {
           "colorbar": {
            "outlinewidth": 0,
            "ticks": ""
           }
          },
          "colorscale": {
           "diverging": [
            [
             0,
             "#8e0152"
            ],
            [
             0.1,
             "#c51b7d"
            ],
            [
             0.2,
             "#de77ae"
            ],
            [
             0.3,
             "#f1b6da"
            ],
            [
             0.4,
             "#fde0ef"
            ],
            [
             0.5,
             "#f7f7f7"
            ],
            [
             0.6,
             "#e6f5d0"
            ],
            [
             0.7,
             "#b8e186"
            ],
            [
             0.8,
             "#7fbc41"
            ],
            [
             0.9,
             "#4d9221"
            ],
            [
             1,
             "#276419"
            ]
           ],
           "sequential": [
            [
             0,
             "#0d0887"
            ],
            [
             0.1111111111111111,
             "#46039f"
            ],
            [
             0.2222222222222222,
             "#7201a8"
            ],
            [
             0.3333333333333333,
             "#9c179e"
            ],
            [
             0.4444444444444444,
             "#bd3786"
            ],
            [
             0.5555555555555556,
             "#d8576b"
            ],
            [
             0.6666666666666666,
             "#ed7953"
            ],
            [
             0.7777777777777778,
             "#fb9f3a"
            ],
            [
             0.8888888888888888,
             "#fdca26"
            ],
            [
             1,
             "#f0f921"
            ]
           ],
           "sequentialminus": [
            [
             0,
             "#0d0887"
            ],
            [
             0.1111111111111111,
             "#46039f"
            ],
            [
             0.2222222222222222,
             "#7201a8"
            ],
            [
             0.3333333333333333,
             "#9c179e"
            ],
            [
             0.4444444444444444,
             "#bd3786"
            ],
            [
             0.5555555555555556,
             "#d8576b"
            ],
            [
             0.6666666666666666,
             "#ed7953"
            ],
            [
             0.7777777777777778,
             "#fb9f3a"
            ],
            [
             0.8888888888888888,
             "#fdca26"
            ],
            [
             1,
             "#f0f921"
            ]
           ]
          },
          "colorway": [
           "#636efa",
           "#EF553B",
           "#00cc96",
           "#ab63fa",
           "#FFA15A",
           "#19d3f3",
           "#FF6692",
           "#B6E880",
           "#FF97FF",
           "#FECB52"
          ],
          "font": {
           "color": "#2a3f5f"
          },
          "geo": {
           "bgcolor": "white",
           "lakecolor": "white",
           "landcolor": "#E5ECF6",
           "showlakes": true,
           "showland": true,
           "subunitcolor": "white"
          },
          "hoverlabel": {
           "align": "left"
          },
          "hovermode": "closest",
          "mapbox": {
           "style": "light"
          },
          "paper_bgcolor": "white",
          "plot_bgcolor": "#E5ECF6",
          "polar": {
           "angularaxis": {
            "gridcolor": "white",
            "linecolor": "white",
            "ticks": ""
           },
           "bgcolor": "#E5ECF6",
           "radialaxis": {
            "gridcolor": "white",
            "linecolor": "white",
            "ticks": ""
           }
          },
          "scene": {
           "xaxis": {
            "backgroundcolor": "#E5ECF6",
            "gridcolor": "white",
            "gridwidth": 2,
            "linecolor": "white",
            "showbackground": true,
            "ticks": "",
            "zerolinecolor": "white"
           },
           "yaxis": {
            "backgroundcolor": "#E5ECF6",
            "gridcolor": "white",
            "gridwidth": 2,
            "linecolor": "white",
            "showbackground": true,
            "ticks": "",
            "zerolinecolor": "white"
           },
           "zaxis": {
            "backgroundcolor": "#E5ECF6",
            "gridcolor": "white",
            "gridwidth": 2,
            "linecolor": "white",
            "showbackground": true,
            "ticks": "",
            "zerolinecolor": "white"
           }
          },
          "shapedefaults": {
           "line": {
            "color": "#2a3f5f"
           }
          },
          "ternary": {
           "aaxis": {
            "gridcolor": "white",
            "linecolor": "white",
            "ticks": ""
           },
           "baxis": {
            "gridcolor": "white",
            "linecolor": "white",
            "ticks": ""
           },
           "bgcolor": "#E5ECF6",
           "caxis": {
            "gridcolor": "white",
            "linecolor": "white",
            "ticks": ""
           }
          },
          "title": {
           "x": 0.05
          },
          "xaxis": {
           "automargin": true,
           "gridcolor": "white",
           "linecolor": "white",
           "ticks": "",
           "title": {
            "standoff": 15
           },
           "zerolinecolor": "white",
           "zerolinewidth": 2
          },
          "yaxis": {
           "automargin": true,
           "gridcolor": "white",
           "linecolor": "white",
           "ticks": "",
           "title": {
            "standoff": 15
           },
           "zerolinecolor": "white",
           "zerolinewidth": 2
          }
         }
        },
        "title": {
         "text": "Interactive Directed Flowchart of Classes, Methods, and Attributes",
         "x": 0.5
        },
        "xaxis": {
         "showgrid": false,
         "showticklabels": false,
         "zeroline": false
        },
        "yaxis": {
         "showgrid": false,
         "showticklabels": false,
         "zeroline": false
        }
       }
      }
     },
     "metadata": {},
     "output_type": "display_data"
    }
   ],
   "source": [
    "## === Define categories ===\n",
    "classes = [\n",
    "    \"Vehicle (ABC)\", \"Car\", \"Bike\", \"Truck\", \"ElectricMixin\", \"ElectricCar\"\n",
    "]\n",
    "\n",
    "methods = [\n",
    "    \"start() [abstract]\", \"stop() [abstract]\", \"info() [abstract]\", \"info()\", \n",
    "    \"honk()\", \"wheelie()\", \"load()\", \"charge()\", \"battery_status()\"\n",
    "]\n",
    "\n",
    "attributes = [\n",
    "    \"brand\", \"model\", \"seats\", \"engine_capacity\", \"capacity\",\n",
    "    \"battery_capacity\"\n",
    "]\n",
    "\n",
    "# === Relationships ===\n",
    "edges = [\n",
    "    # Vehicle ABC\n",
    "    (\"Vehicle (ABC)\", \"brand\", \"composition\"),\n",
    "    (\"Vehicle (ABC)\", \"model\", \"composition\"),\n",
    "    (\"Vehicle (ABC)\", \"start() [abstract]\", \"composition\"),\n",
    "    (\"Vehicle (ABC)\", \"stop() [abstract]\", \"composition\"),\n",
    "    (\"Vehicle (ABC)\", \"info() [abstract]\", \"composition\"),\n",
    "\n",
    "    # Car\n",
    "    (\"Car\", \"seats\", \"composition\"),\n",
    "    (\"Car\", \"honk()\", \"composition\"),\n",
    "    (\"Car\", \"info()\", \"composition\"),\n",
    "    (\"Car\", \"Vehicle (ABC)\", \"inheritance\"),\n",
    "\n",
    "    # Bike\n",
    "    (\"Bike\", \"engine_capacity\", \"composition\"),\n",
    "    (\"Bike\", \"wheelie()\", \"composition\"),\n",
    "    (\"Bike\", \"info()\", \"composition\"),\n",
    "    (\"Bike\", \"Vehicle (ABC)\", \"inheritance\"),\n",
    "\n",
    "    # Truck\n",
    "    (\"Truck\", \"capacity\", \"composition\"),\n",
    "    (\"Truck\", \"load()\", \"composition\"),\n",
    "    (\"Truck\", \"info()\", \"composition\"),\n",
    "    (\"Truck\", \"Vehicle (ABC)\", \"inheritance\"),\n",
    "\n",
    "    # ElectricMixin\n",
    "    (\"ElectricMixin\", \"battery_capacity\", \"composition\"),\n",
    "    (\"ElectricMixin\", \"charge()\", \"composition\"),\n",
    "    (\"ElectricMixin\", \"battery_status()\", \"composition\"),\n",
    "\n",
    "    # ElectricCar (multiple inheritance)\n",
    "    (\"ElectricCar\", \"Vehicle (ABC)\", \"inheritance\"),\n",
    "    (\"ElectricCar\", \"ElectricMixin\", \"inheritance\"),\n",
    "    (\"ElectricCar\", \"seats\", \"composition\"),\n",
    "    (\"ElectricCar\", \"info()\", \"composition\"),\n",
    "]\n",
    "\n",
    "# === Build graph ===\n",
    "G = nx.DiGraph()\n",
    "for src, dst, _ in edges:\n",
    "    G.add_edge(src, dst)\n",
    "\n",
    "# Layout positions\n",
    "pos = nx.spring_layout(G, seed=42, k=1.2)\n",
    "\n",
    "# === Categorization ===\n",
    "def get_category(node):\n",
    "    if node in classes:\n",
    "        return \"Class\"\n",
    "    elif node in methods:\n",
    "        return \"Method\"\n",
    "    elif node in attributes:\n",
    "        return \"Attribute\"\n",
    "    return \"Other\"\n",
    "\n",
    "category_colors = {\n",
    "    \"Class\": \"skyblue\",\n",
    "    \"Method\": \"orange\",\n",
    "    \"Attribute\": \"lightgreen\",\n",
    "    \"Other\": \"lightgray\"\n",
    "}\n",
    "\n",
    "edge_colors = {\n",
    "    \"inheritance\": \"blue\",\n",
    "    \"composition\": \"green\"\n",
    "}\n",
    "\n",
    "# === Node traces ===\n",
    "node_traces = []\n",
    "for category, color in category_colors.items():\n",
    "    x, y, text = [], [], []\n",
    "    for node in G.nodes():\n",
    "        if get_category(node) == category:\n",
    "            x.append(pos[node][0])\n",
    "            y.append(pos[node][1])\n",
    "            text.append(node)\n",
    "    node_traces.append(\n",
    "        go.Scatter(\n",
    "            x=x, y=y,\n",
    "            mode=\"markers+text\",\n",
    "            text=text,\n",
    "            textposition=\"top center\",\n",
    "            hoverinfo=\"text\",\n",
    "            marker=dict(size=25, color=color, line_width=2),\n",
    "            name=category\n",
    "        )\n",
    "    )\n",
    "\n",
    "# === Edge arrows (with colors by type) ===\n",
    "annotations = []\n",
    "for src, dst, rel_type in edges:\n",
    "    x0, y0 = pos[src]\n",
    "    x1, y1 = pos[dst]\n",
    "    annotations.append(\n",
    "        dict(\n",
    "            ax=x0, ay=y0,\n",
    "            x=x1, y=y1,\n",
    "            xref=\"x\", yref=\"y\",\n",
    "            axref=\"x\", ayref=\"y\",\n",
    "            showarrow=True,\n",
    "            arrowhead=3, arrowsize=1.2, arrowwidth=1.5,\n",
    "            arrowcolor=edge_colors[rel_type]\n",
    "        )\n",
    "    )\n",
    "\n",
    "# === Create figure ===\n",
    "fig = go.Figure(data=node_traces)\n",
    "fig.update_layout(\n",
    "    title=\"Interactive Directed Flowchart of Classes, Methods, and Attributes\",\n",
    "    title_x=0.5,\n",
    "    showlegend=True,\n",
    "    legend=dict(x=1.05, y=1, bgcolor=\"rgba(255,255,255,0.7)\", bordercolor=\"black\"),\n",
    "    margin=dict(l=20, r=20, t=40, b=20),\n",
    "    xaxis=dict(showgrid=False, zeroline=False, showticklabels=False),\n",
    "    yaxis=dict(showgrid=False, zeroline=False, showticklabels=False),\n",
    "    plot_bgcolor=\"white\",\n",
    "    annotations=annotations\n",
    ")\n",
    "\n",
    "# === Add custom legend for edge types ===\n",
    "for label, color in edge_colors.items():\n",
    "    fig.add_trace(\n",
    "        go.Scatter(\n",
    "            x=[None], y=[None],\n",
    "            mode=\"lines\",\n",
    "            line=dict(color=color, width=2),\n",
    "            name=f\"{label.capitalize()} edge\"\n",
    "        )\n",
    "    )\n",
    "\n",
    "fig.show()\n",
    "import plotly.io as pio\n",
    "\n",
    "# Optional: Save as SVG\n",
    "pio.write_image(fig, \"flowchart_static.svg\", width=1200, height=800)\n"
   ]
  },
  {
   "cell_type": "markdown",
   "id": "f3abf69e",
   "metadata": {},
   "source": [
    "![Flowchart1](flowchart_static.svg)"
   ]
  },
  {
   "cell_type": "markdown",
   "id": "64a9d891",
   "metadata": {},
   "source": [
    "## 2. Interactive Flowchart of Classes, Methods, and Attributes\n"
   ]
  },
  {
   "cell_type": "code",
   "execution_count": null,
   "id": "176a5bf7",
   "metadata": {},
   "outputs": [
    {
     "data": {
      "application/vnd.plotly.v1+json": {
       "config": {
        "plotlyServerURL": "https://plot.ly"
       },
       "data": [
        {
         "hoverinfo": "text",
         "marker": {
          "color": "skyblue",
          "line": {
           "width": 2
          },
          "size": 25
         },
         "mode": "markers+text",
         "name": "Class",
         "text": [
          "Vehicle (ABC)",
          "Car",
          "Bike",
          "Truck",
          "ElectricMixin",
          "ElectricCar"
         ],
         "textposition": "top center",
         "type": "scatter",
         "x": [
          12,
          20,
          8,
          12,
          20,
          20
         ],
         "y": [
          -16,
          -4,
          0,
          0,
          -8,
          0
         ]
        },
        {
         "hoverinfo": "text",
         "marker": {
          "color": "orange",
          "line": {
           "width": 2
          },
          "size": 25
         },
         "mode": "markers+text",
         "name": "Method",
         "text": [
          "start() [abstract]",
          "stop() [abstract]",
          "info() [abstract]",
          "honk()",
          "info()",
          "wheelie()",
          "load()",
          "charge()",
          "battery_status()"
         ],
         "textposition": "top center",
         "type": "scatter",
         "x": [
          0,
          0,
          0,
          4,
          20,
          8,
          12,
          16,
          16
         ],
         "y": [
          -12,
          -16,
          -20,
          -8,
          -12,
          -8,
          -8,
          -12,
          -16
         ]
        },
        {
         "hoverinfo": "text",
         "marker": {
          "color": "lightgreen",
          "line": {
           "width": 2
          },
          "size": 25
         },
         "mode": "markers+text",
         "name": "Attribute",
         "text": [
          "brand",
          "model",
          "seats",
          "cc",
          "capacity",
          "battery_capacity",
          "charge_level"
         ],
         "textposition": "top center",
         "type": "scatter",
         "x": [
          0,
          0,
          4,
          8,
          12,
          16,
          16
         ],
         "y": [
          -4,
          -8,
          -4,
          -4,
          -4,
          -4,
          -8
         ]
        },
        {
         "hoverinfo": "text",
         "marker": {
          "color": "lightgray",
          "line": {
           "width": 2
          },
          "size": 25
         },
         "mode": "markers+text",
         "name": "Other",
         "text": [],
         "textposition": "top center",
         "type": "scatter",
         "x": [],
         "y": []
        },
        {
         "line": {
          "color": "blue",
          "width": 2
         },
         "mode": "lines",
         "name": "Inheritance edge",
         "type": "scatter",
         "x": [
          null
         ],
         "y": [
          null
         ]
        },
        {
         "line": {
          "color": "green",
          "width": 2
         },
         "mode": "lines",
         "name": "Composition edge",
         "type": "scatter",
         "x": [
          null
         ],
         "y": [
          null
         ]
        }
       ],
       "layout": {
        "annotations": [
         {
          "arrowcolor": "green",
          "arrowhead": 3,
          "arrowsize": 1.2,
          "arrowwidth": 1.5,
          "ax": 12,
          "axref": "x",
          "ay": -16,
          "ayref": "y",
          "showarrow": true,
          "x": 0,
          "xref": "x",
          "y": -4,
          "yref": "y"
         },
         {
          "arrowcolor": "green",
          "arrowhead": 3,
          "arrowsize": 1.2,
          "arrowwidth": 1.5,
          "ax": 12,
          "axref": "x",
          "ay": -16,
          "ayref": "y",
          "showarrow": true,
          "x": 0,
          "xref": "x",
          "y": -8,
          "yref": "y"
         },
         {
          "arrowcolor": "green",
          "arrowhead": 3,
          "arrowsize": 1.2,
          "arrowwidth": 1.5,
          "ax": 12,
          "axref": "x",
          "ay": -16,
          "ayref": "y",
          "showarrow": true,
          "x": 0,
          "xref": "x",
          "y": -12,
          "yref": "y"
         },
         {
          "arrowcolor": "green",
          "arrowhead": 3,
          "arrowsize": 1.2,
          "arrowwidth": 1.5,
          "ax": 12,
          "axref": "x",
          "ay": -16,
          "ayref": "y",
          "showarrow": true,
          "x": 0,
          "xref": "x",
          "y": -16,
          "yref": "y"
         },
         {
          "arrowcolor": "green",
          "arrowhead": 3,
          "arrowsize": 1.2,
          "arrowwidth": 1.5,
          "ax": 12,
          "axref": "x",
          "ay": -16,
          "ayref": "y",
          "showarrow": true,
          "x": 0,
          "xref": "x",
          "y": -20,
          "yref": "y"
         },
         {
          "arrowcolor": "green",
          "arrowhead": 3,
          "arrowsize": 1.2,
          "arrowwidth": 1.5,
          "ax": 20,
          "axref": "x",
          "ay": -4,
          "ayref": "y",
          "showarrow": true,
          "x": 4,
          "xref": "x",
          "y": -4,
          "yref": "y"
         },
         {
          "arrowcolor": "green",
          "arrowhead": 3,
          "arrowsize": 1.2,
          "arrowwidth": 1.5,
          "ax": 20,
          "axref": "x",
          "ay": -4,
          "ayref": "y",
          "showarrow": true,
          "x": 4,
          "xref": "x",
          "y": -8,
          "yref": "y"
         },
         {
          "arrowcolor": "green",
          "arrowhead": 3,
          "arrowsize": 1.2,
          "arrowwidth": 1.5,
          "ax": 20,
          "axref": "x",
          "ay": -4,
          "ayref": "y",
          "showarrow": true,
          "x": 20,
          "xref": "x",
          "y": -12,
          "yref": "y"
         },
         {
          "arrowcolor": "blue",
          "arrowhead": 3,
          "arrowsize": 1.2,
          "arrowwidth": 1.5,
          "ax": 20,
          "axref": "x",
          "ay": -4,
          "ayref": "y",
          "showarrow": true,
          "x": 12,
          "xref": "x",
          "y": -16,
          "yref": "y"
         },
         {
          "arrowcolor": "green",
          "arrowhead": 3,
          "arrowsize": 1.2,
          "arrowwidth": 1.5,
          "ax": 8,
          "axref": "x",
          "ay": 0,
          "ayref": "y",
          "showarrow": true,
          "x": 8,
          "xref": "x",
          "y": -4,
          "yref": "y"
         },
         {
          "arrowcolor": "green",
          "arrowhead": 3,
          "arrowsize": 1.2,
          "arrowwidth": 1.5,
          "ax": 8,
          "axref": "x",
          "ay": 0,
          "ayref": "y",
          "showarrow": true,
          "x": 8,
          "xref": "x",
          "y": -8,
          "yref": "y"
         },
         {
          "arrowcolor": "green",
          "arrowhead": 3,
          "arrowsize": 1.2,
          "arrowwidth": 1.5,
          "ax": 8,
          "axref": "x",
          "ay": 0,
          "ayref": "y",
          "showarrow": true,
          "x": 20,
          "xref": "x",
          "y": -12,
          "yref": "y"
         },
         {
          "arrowcolor": "blue",
          "arrowhead": 3,
          "arrowsize": 1.2,
          "arrowwidth": 1.5,
          "ax": 8,
          "axref": "x",
          "ay": 0,
          "ayref": "y",
          "showarrow": true,
          "x": 12,
          "xref": "x",
          "y": -16,
          "yref": "y"
         },
         {
          "arrowcolor": "green",
          "arrowhead": 3,
          "arrowsize": 1.2,
          "arrowwidth": 1.5,
          "ax": 12,
          "axref": "x",
          "ay": 0,
          "ayref": "y",
          "showarrow": true,
          "x": 12,
          "xref": "x",
          "y": -4,
          "yref": "y"
         },
         {
          "arrowcolor": "green",
          "arrowhead": 3,
          "arrowsize": 1.2,
          "arrowwidth": 1.5,
          "ax": 12,
          "axref": "x",
          "ay": 0,
          "ayref": "y",
          "showarrow": true,
          "x": 12,
          "xref": "x",
          "y": -8,
          "yref": "y"
         },
         {
          "arrowcolor": "green",
          "arrowhead": 3,
          "arrowsize": 1.2,
          "arrowwidth": 1.5,
          "ax": 12,
          "axref": "x",
          "ay": 0,
          "ayref": "y",
          "showarrow": true,
          "x": 20,
          "xref": "x",
          "y": -12,
          "yref": "y"
         },
         {
          "arrowcolor": "blue",
          "arrowhead": 3,
          "arrowsize": 1.2,
          "arrowwidth": 1.5,
          "ax": 12,
          "axref": "x",
          "ay": 0,
          "ayref": "y",
          "showarrow": true,
          "x": 12,
          "xref": "x",
          "y": -16,
          "yref": "y"
         },
         {
          "arrowcolor": "green",
          "arrowhead": 3,
          "arrowsize": 1.2,
          "arrowwidth": 1.5,
          "ax": 20,
          "axref": "x",
          "ay": -8,
          "ayref": "y",
          "showarrow": true,
          "x": 16,
          "xref": "x",
          "y": -4,
          "yref": "y"
         },
         {
          "arrowcolor": "green",
          "arrowhead": 3,
          "arrowsize": 1.2,
          "arrowwidth": 1.5,
          "ax": 20,
          "axref": "x",
          "ay": -8,
          "ayref": "y",
          "showarrow": true,
          "x": 16,
          "xref": "x",
          "y": -8,
          "yref": "y"
         },
         {
          "arrowcolor": "green",
          "arrowhead": 3,
          "arrowsize": 1.2,
          "arrowwidth": 1.5,
          "ax": 20,
          "axref": "x",
          "ay": -8,
          "ayref": "y",
          "showarrow": true,
          "x": 16,
          "xref": "x",
          "y": -12,
          "yref": "y"
         },
         {
          "arrowcolor": "green",
          "arrowhead": 3,
          "arrowsize": 1.2,
          "arrowwidth": 1.5,
          "ax": 20,
          "axref": "x",
          "ay": -8,
          "ayref": "y",
          "showarrow": true,
          "x": 16,
          "xref": "x",
          "y": -16,
          "yref": "y"
         },
         {
          "arrowcolor": "blue",
          "arrowhead": 3,
          "arrowsize": 1.2,
          "arrowwidth": 1.5,
          "ax": 20,
          "axref": "x",
          "ay": 0,
          "ayref": "y",
          "showarrow": true,
          "x": 20,
          "xref": "x",
          "y": -4,
          "yref": "y"
         },
         {
          "arrowcolor": "blue",
          "arrowhead": 3,
          "arrowsize": 1.2,
          "arrowwidth": 1.5,
          "ax": 20,
          "axref": "x",
          "ay": 0,
          "ayref": "y",
          "showarrow": true,
          "x": 20,
          "xref": "x",
          "y": -8,
          "yref": "y"
         },
         {
          "arrowcolor": "green",
          "arrowhead": 3,
          "arrowsize": 1.2,
          "arrowwidth": 1.5,
          "ax": 20,
          "axref": "x",
          "ay": 0,
          "ayref": "y",
          "showarrow": true,
          "x": 20,
          "xref": "x",
          "y": -12,
          "yref": "y"
         }
        ],
        "legend": {
         "bgcolor": "rgba(255,255,255,0.7)",
         "bordercolor": "black",
         "x": 1.05,
         "y": 1
        },
        "margin": {
         "b": 20,
         "l": 20,
         "r": 20,
         "t": 40
        },
        "plot_bgcolor": "white",
        "shapes": [
         {
          "fillcolor": "rgba(200,200,200,0.1)",
          "layer": "below",
          "line": {
           "color": "black",
           "dash": "dot",
           "width": 1
          },
          "type": "rect",
          "x0": -1,
          "x1": 13,
          "xref": "x",
          "y0": -21,
          "y1": -3,
          "yref": "y"
         },
         {
          "fillcolor": "rgba(200,200,200,0.1)",
          "layer": "below",
          "line": {
           "color": "black",
           "dash": "dot",
           "width": 1
          },
          "type": "rect",
          "x0": 3,
          "x1": 21,
          "xref": "x",
          "y0": -17,
          "y1": -3,
          "yref": "y"
         },
         {
          "fillcolor": "rgba(200,200,200,0.1)",
          "layer": "below",
          "line": {
           "color": "black",
           "dash": "dot",
           "width": 1
          },
          "type": "rect",
          "x0": 7,
          "x1": 21,
          "xref": "x",
          "y0": -17,
          "y1": 1,
          "yref": "y"
         },
         {
          "fillcolor": "rgba(200,200,200,0.1)",
          "layer": "below",
          "line": {
           "color": "black",
           "dash": "dot",
           "width": 1
          },
          "type": "rect",
          "x0": 11,
          "x1": 21,
          "xref": "x",
          "y0": -17,
          "y1": 1,
          "yref": "y"
         },
         {
          "fillcolor": "rgba(200,200,200,0.1)",
          "layer": "below",
          "line": {
           "color": "black",
           "dash": "dot",
           "width": 1
          },
          "type": "rect",
          "x0": 15,
          "x1": 21,
          "xref": "x",
          "y0": -17,
          "y1": -3,
          "yref": "y"
         },
         {
          "fillcolor": "rgba(200,200,200,0.1)",
          "layer": "below",
          "line": {
           "color": "black",
           "dash": "dot",
           "width": 1
          },
          "type": "rect",
          "x0": 19,
          "x1": 21,
          "xref": "x",
          "y0": -13,
          "y1": 1,
          "yref": "y"
         }
        ],
        "showlegend": true,
        "template": {
         "data": {
          "bar": [
           {
            "error_x": {
             "color": "#2a3f5f"
            },
            "error_y": {
             "color": "#2a3f5f"
            },
            "marker": {
             "line": {
              "color": "#E5ECF6",
              "width": 0.5
             },
             "pattern": {
              "fillmode": "overlay",
              "size": 10,
              "solidity": 0.2
             }
            },
            "type": "bar"
           }
          ],
          "barpolar": [
           {
            "marker": {
             "line": {
              "color": "#E5ECF6",
              "width": 0.5
             },
             "pattern": {
              "fillmode": "overlay",
              "size": 10,
              "solidity": 0.2
             }
            },
            "type": "barpolar"
           }
          ],
          "carpet": [
           {
            "aaxis": {
             "endlinecolor": "#2a3f5f",
             "gridcolor": "white",
             "linecolor": "white",
             "minorgridcolor": "white",
             "startlinecolor": "#2a3f5f"
            },
            "baxis": {
             "endlinecolor": "#2a3f5f",
             "gridcolor": "white",
             "linecolor": "white",
             "minorgridcolor": "white",
             "startlinecolor": "#2a3f5f"
            },
            "type": "carpet"
           }
          ],
          "choropleth": [
           {
            "colorbar": {
             "outlinewidth": 0,
             "ticks": ""
            },
            "type": "choropleth"
           }
          ],
          "contour": [
           {
            "colorbar": {
             "outlinewidth": 0,
             "ticks": ""
            },
            "colorscale": [
             [
              0,
              "#0d0887"
             ],
             [
              0.1111111111111111,
              "#46039f"
             ],
             [
              0.2222222222222222,
              "#7201a8"
             ],
             [
              0.3333333333333333,
              "#9c179e"
             ],
             [
              0.4444444444444444,
              "#bd3786"
             ],
             [
              0.5555555555555556,
              "#d8576b"
             ],
             [
              0.6666666666666666,
              "#ed7953"
             ],
             [
              0.7777777777777778,
              "#fb9f3a"
             ],
             [
              0.8888888888888888,
              "#fdca26"
             ],
             [
              1,
              "#f0f921"
             ]
            ],
            "type": "contour"
           }
          ],
          "contourcarpet": [
           {
            "colorbar": {
             "outlinewidth": 0,
             "ticks": ""
            },
            "type": "contourcarpet"
           }
          ],
          "heatmap": [
           {
            "colorbar": {
             "outlinewidth": 0,
             "ticks": ""
            },
            "colorscale": [
             [
              0,
              "#0d0887"
             ],
             [
              0.1111111111111111,
              "#46039f"
             ],
             [
              0.2222222222222222,
              "#7201a8"
             ],
             [
              0.3333333333333333,
              "#9c179e"
             ],
             [
              0.4444444444444444,
              "#bd3786"
             ],
             [
              0.5555555555555556,
              "#d8576b"
             ],
             [
              0.6666666666666666,
              "#ed7953"
             ],
             [
              0.7777777777777778,
              "#fb9f3a"
             ],
             [
              0.8888888888888888,
              "#fdca26"
             ],
             [
              1,
              "#f0f921"
             ]
            ],
            "type": "heatmap"
           }
          ],
          "histogram": [
           {
            "marker": {
             "pattern": {
              "fillmode": "overlay",
              "size": 10,
              "solidity": 0.2
             }
            },
            "type": "histogram"
           }
          ],
          "histogram2d": [
           {
            "colorbar": {
             "outlinewidth": 0,
             "ticks": ""
            },
            "colorscale": [
             [
              0,
              "#0d0887"
             ],
             [
              0.1111111111111111,
              "#46039f"
             ],
             [
              0.2222222222222222,
              "#7201a8"
             ],
             [
              0.3333333333333333,
              "#9c179e"
             ],
             [
              0.4444444444444444,
              "#bd3786"
             ],
             [
              0.5555555555555556,
              "#d8576b"
             ],
             [
              0.6666666666666666,
              "#ed7953"
             ],
             [
              0.7777777777777778,
              "#fb9f3a"
             ],
             [
              0.8888888888888888,
              "#fdca26"
             ],
             [
              1,
              "#f0f921"
             ]
            ],
            "type": "histogram2d"
           }
          ],
          "histogram2dcontour": [
           {
            "colorbar": {
             "outlinewidth": 0,
             "ticks": ""
            },
            "colorscale": [
             [
              0,
              "#0d0887"
             ],
             [
              0.1111111111111111,
              "#46039f"
             ],
             [
              0.2222222222222222,
              "#7201a8"
             ],
             [
              0.3333333333333333,
              "#9c179e"
             ],
             [
              0.4444444444444444,
              "#bd3786"
             ],
             [
              0.5555555555555556,
              "#d8576b"
             ],
             [
              0.6666666666666666,
              "#ed7953"
             ],
             [
              0.7777777777777778,
              "#fb9f3a"
             ],
             [
              0.8888888888888888,
              "#fdca26"
             ],
             [
              1,
              "#f0f921"
             ]
            ],
            "type": "histogram2dcontour"
           }
          ],
          "mesh3d": [
           {
            "colorbar": {
             "outlinewidth": 0,
             "ticks": ""
            },
            "type": "mesh3d"
           }
          ],
          "parcoords": [
           {
            "line": {
             "colorbar": {
              "outlinewidth": 0,
              "ticks": ""
             }
            },
            "type": "parcoords"
           }
          ],
          "pie": [
           {
            "automargin": true,
            "type": "pie"
           }
          ],
          "scatter": [
           {
            "fillpattern": {
             "fillmode": "overlay",
             "size": 10,
             "solidity": 0.2
            },
            "type": "scatter"
           }
          ],
          "scatter3d": [
           {
            "line": {
             "colorbar": {
              "outlinewidth": 0,
              "ticks": ""
             }
            },
            "marker": {
             "colorbar": {
              "outlinewidth": 0,
              "ticks": ""
             }
            },
            "type": "scatter3d"
           }
          ],
          "scattercarpet": [
           {
            "marker": {
             "colorbar": {
              "outlinewidth": 0,
              "ticks": ""
             }
            },
            "type": "scattercarpet"
           }
          ],
          "scattergeo": [
           {
            "marker": {
             "colorbar": {
              "outlinewidth": 0,
              "ticks": ""
             }
            },
            "type": "scattergeo"
           }
          ],
          "scattergl": [
           {
            "marker": {
             "colorbar": {
              "outlinewidth": 0,
              "ticks": ""
             }
            },
            "type": "scattergl"
           }
          ],
          "scattermap": [
           {
            "marker": {
             "colorbar": {
              "outlinewidth": 0,
              "ticks": ""
             }
            },
            "type": "scattermap"
           }
          ],
          "scattermapbox": [
           {
            "marker": {
             "colorbar": {
              "outlinewidth": 0,
              "ticks": ""
             }
            },
            "type": "scattermapbox"
           }
          ],
          "scatterpolar": [
           {
            "marker": {
             "colorbar": {
              "outlinewidth": 0,
              "ticks": ""
             }
            },
            "type": "scatterpolar"
           }
          ],
          "scatterpolargl": [
           {
            "marker": {
             "colorbar": {
              "outlinewidth": 0,
              "ticks": ""
             }
            },
            "type": "scatterpolargl"
           }
          ],
          "scatterternary": [
           {
            "marker": {
             "colorbar": {
              "outlinewidth": 0,
              "ticks": ""
             }
            },
            "type": "scatterternary"
           }
          ],
          "surface": [
           {
            "colorbar": {
             "outlinewidth": 0,
             "ticks": ""
            },
            "colorscale": [
             [
              0,
              "#0d0887"
             ],
             [
              0.1111111111111111,
              "#46039f"
             ],
             [
              0.2222222222222222,
              "#7201a8"
             ],
             [
              0.3333333333333333,
              "#9c179e"
             ],
             [
              0.4444444444444444,
              "#bd3786"
             ],
             [
              0.5555555555555556,
              "#d8576b"
             ],
             [
              0.6666666666666666,
              "#ed7953"
             ],
             [
              0.7777777777777778,
              "#fb9f3a"
             ],
             [
              0.8888888888888888,
              "#fdca26"
             ],
             [
              1,
              "#f0f921"
             ]
            ],
            "type": "surface"
           }
          ],
          "table": [
           {
            "cells": {
             "fill": {
              "color": "#EBF0F8"
             },
             "line": {
              "color": "white"
             }
            },
            "header": {
             "fill": {
              "color": "#C8D4E3"
             },
             "line": {
              "color": "white"
             }
            },
            "type": "table"
           }
          ]
         },
         "layout": {
          "annotationdefaults": {
           "arrowcolor": "#2a3f5f",
           "arrowhead": 0,
           "arrowwidth": 1
          },
          "autotypenumbers": "strict",
          "coloraxis": {
           "colorbar": {
            "outlinewidth": 0,
            "ticks": ""
           }
          },
          "colorscale": {
           "diverging": [
            [
             0,
             "#8e0152"
            ],
            [
             0.1,
             "#c51b7d"
            ],
            [
             0.2,
             "#de77ae"
            ],
            [
             0.3,
             "#f1b6da"
            ],
            [
             0.4,
             "#fde0ef"
            ],
            [
             0.5,
             "#f7f7f7"
            ],
            [
             0.6,
             "#e6f5d0"
            ],
            [
             0.7,
             "#b8e186"
            ],
            [
             0.8,
             "#7fbc41"
            ],
            [
             0.9,
             "#4d9221"
            ],
            [
             1,
             "#276419"
            ]
           ],
           "sequential": [
            [
             0,
             "#0d0887"
            ],
            [
             0.1111111111111111,
             "#46039f"
            ],
            [
             0.2222222222222222,
             "#7201a8"
            ],
            [
             0.3333333333333333,
             "#9c179e"
            ],
            [
             0.4444444444444444,
             "#bd3786"
            ],
            [
             0.5555555555555556,
             "#d8576b"
            ],
            [
             0.6666666666666666,
             "#ed7953"
            ],
            [
             0.7777777777777778,
             "#fb9f3a"
            ],
            [
             0.8888888888888888,
             "#fdca26"
            ],
            [
             1,
             "#f0f921"
            ]
           ],
           "sequentialminus": [
            [
             0,
             "#0d0887"
            ],
            [
             0.1111111111111111,
             "#46039f"
            ],
            [
             0.2222222222222222,
             "#7201a8"
            ],
            [
             0.3333333333333333,
             "#9c179e"
            ],
            [
             0.4444444444444444,
             "#bd3786"
            ],
            [
             0.5555555555555556,
             "#d8576b"
            ],
            [
             0.6666666666666666,
             "#ed7953"
            ],
            [
             0.7777777777777778,
             "#fb9f3a"
            ],
            [
             0.8888888888888888,
             "#fdca26"
            ],
            [
             1,
             "#f0f921"
            ]
           ]
          },
          "colorway": [
           "#636efa",
           "#EF553B",
           "#00cc96",
           "#ab63fa",
           "#FFA15A",
           "#19d3f3",
           "#FF6692",
           "#B6E880",
           "#FF97FF",
           "#FECB52"
          ],
          "font": {
           "color": "#2a3f5f"
          },
          "geo": {
           "bgcolor": "white",
           "lakecolor": "white",
           "landcolor": "#E5ECF6",
           "showlakes": true,
           "showland": true,
           "subunitcolor": "white"
          },
          "hoverlabel": {
           "align": "left"
          },
          "hovermode": "closest",
          "mapbox": {
           "style": "light"
          },
          "paper_bgcolor": "white",
          "plot_bgcolor": "#E5ECF6",
          "polar": {
           "angularaxis": {
            "gridcolor": "white",
            "linecolor": "white",
            "ticks": ""
           },
           "bgcolor": "#E5ECF6",
           "radialaxis": {
            "gridcolor": "white",
            "linecolor": "white",
            "ticks": ""
           }
          },
          "scene": {
           "xaxis": {
            "backgroundcolor": "#E5ECF6",
            "gridcolor": "white",
            "gridwidth": 2,
            "linecolor": "white",
            "showbackground": true,
            "ticks": "",
            "zerolinecolor": "white"
           },
           "yaxis": {
            "backgroundcolor": "#E5ECF6",
            "gridcolor": "white",
            "gridwidth": 2,
            "linecolor": "white",
            "showbackground": true,
            "ticks": "",
            "zerolinecolor": "white"
           },
           "zaxis": {
            "backgroundcolor": "#E5ECF6",
            "gridcolor": "white",
            "gridwidth": 2,
            "linecolor": "white",
            "showbackground": true,
            "ticks": "",
            "zerolinecolor": "white"
           }
          },
          "shapedefaults": {
           "line": {
            "color": "#2a3f5f"
           }
          },
          "ternary": {
           "aaxis": {
            "gridcolor": "white",
            "linecolor": "white",
            "ticks": ""
           },
           "baxis": {
            "gridcolor": "white",
            "linecolor": "white",
            "ticks": ""
           },
           "bgcolor": "#E5ECF6",
           "caxis": {
            "gridcolor": "white",
            "linecolor": "white",
            "ticks": ""
           }
          },
          "title": {
           "x": 0.05
          },
          "xaxis": {
           "automargin": true,
           "gridcolor": "white",
           "linecolor": "white",
           "ticks": "",
           "title": {
            "standoff": 15
           },
           "zerolinecolor": "white",
           "zerolinewidth": 2
          },
          "yaxis": {
           "automargin": true,
           "gridcolor": "white",
           "linecolor": "white",
           "ticks": "",
           "title": {
            "standoff": 15
           },
           "zerolinecolor": "white",
           "zerolinewidth": 2
          }
         }
        },
        "title": {
         "text": "Clustered Flowchart of Classes, Methods, and Attributes",
         "x": 0.5
        },
        "xaxis": {
         "showgrid": false,
         "showticklabels": false,
         "zeroline": false
        },
        "yaxis": {
         "showgrid": false,
         "showticklabels": false,
         "zeroline": false
        }
       }
      }
     },
     "metadata": {},
     "output_type": "display_data"
    }
   ],
   "source": [
    "#### === Define categories ===\n",
    "classes = [\n",
    "    \"Vehicle (ABC)\", \"Car\", \"Bike\", \"Truck\", \"ElectricMixin\", \"ElectricCar\"\n",
    "]\n",
    "\n",
    "methods = [\n",
    "    \"start() [abstract]\", \"stop() [abstract]\", \"info() [abstract]\", \"info()\", \n",
    "    \"honk()\", \"wheelie()\", \"load()\", \"charge()\", \"battery_status()\"\n",
    "]\n",
    "\n",
    "attributes = [\n",
    "    \"brand\", \"model\", \"seats\", \"cc\", \"capacity\",\n",
    "    \"battery_capacity\", \"charge_level\"\n",
    "]\n",
    "\n",
    "#### === Relationships ===\n",
    "edges = [\n",
    "    # Vehicle ABC\n",
    "    (\"Vehicle (ABC)\", \"brand\", \"composition\"),\n",
    "    (\"Vehicle (ABC)\", \"model\", \"composition\"),\n",
    "    (\"Vehicle (ABC)\", \"start() [abstract]\", \"composition\"),\n",
    "    (\"Vehicle (ABC)\", \"stop() [abstract]\", \"composition\"),\n",
    "    (\"Vehicle (ABC)\", \"info() [abstract]\", \"composition\"),\n",
    "\n",
    "    # Car\n",
    "    (\"Car\", \"seats\", \"composition\"),\n",
    "    (\"Car\", \"honk()\", \"composition\"),\n",
    "    (\"Car\", \"info()\", \"composition\"),\n",
    "    (\"Car\", \"Vehicle (ABC)\", \"inheritance\"),\n",
    "\n",
    "    # Bike\n",
    "    (\"Bike\", \"cc\", \"composition\"),\n",
    "    (\"Bike\", \"wheelie()\", \"composition\"),\n",
    "    (\"Bike\", \"info()\", \"composition\"),\n",
    "    (\"Bike\", \"Vehicle (ABC)\", \"inheritance\"),\n",
    "\n",
    "    # Truck\n",
    "    (\"Truck\", \"capacity\", \"composition\"),\n",
    "    (\"Truck\", \"load()\", \"composition\"),\n",
    "    (\"Truck\", \"info()\", \"composition\"),\n",
    "    (\"Truck\", \"Vehicle (ABC)\", \"inheritance\"),\n",
    "\n",
    "    # ElectricMixin (mixin class)\n",
    "    (\"ElectricMixin\", \"battery_capacity\", \"composition\"),\n",
    "    (\"ElectricMixin\", \"charge_level\", \"composition\"),\n",
    "    (\"ElectricMixin\", \"charge()\", \"composition\"),\n",
    "    (\"ElectricMixin\", \"battery_status()\", \"composition\"),\n",
    "\n",
    "    # ElectricCar (multiple inheritance)\n",
    "    (\"ElectricCar\", \"Car\", \"inheritance\"),\n",
    "    (\"ElectricCar\", \"ElectricMixin\", \"inheritance\"),\n",
    "    (\"ElectricCar\", \"info()\", \"composition\"),\n",
    "]\n",
    "\n",
    "#### === Build graph ===\n",
    "G = nx.DiGraph()\n",
    "for src, dst, _ in edges:\n",
    "    G.add_edge(src, dst)\n",
    "\n",
    "#### Fixed layout: group nodes by class\n",
    "pos = {}\n",
    "x_gap, y_gap = 4, 4\n",
    "for i, cls in enumerate(classes):\n",
    "    pos[cls] = (i * x_gap, 0)\n",
    "    # spread methods/attributes vertically under each class\n",
    "    children = [dst for src, dst, rel in edges if src == cls]\n",
    "    for j, child in enumerate(children):\n",
    "        pos[child] = (i * x_gap, -(j+1) * y_gap)\n",
    "\n",
    "#### === Categorization ===\n",
    "def get_category(node):\n",
    "    if node in classes:\n",
    "        return \"Class\"\n",
    "    elif node in methods:\n",
    "        return \"Method\"\n",
    "    elif node in attributes:\n",
    "        return \"Attribute\"\n",
    "    return \"Other\"\n",
    "\n",
    "category_colors = {\"Class\": \"skyblue\", \"Method\": \"orange\", \"Attribute\": \"lightgreen\", \"Other\": \"lightgray\"}\n",
    "edge_colors = {\"inheritance\": \"blue\", \"composition\": \"green\"}\n",
    "\n",
    "#### === Node traces ===\n",
    "node_traces = []\n",
    "for category, color in category_colors.items():\n",
    "    x, y, text = [], [], []\n",
    "    for node in G.nodes():\n",
    "        if get_category(node) == category:\n",
    "            x.append(pos[node][0])\n",
    "            y.append(pos[node][1])\n",
    "            text.append(node)\n",
    "    node_traces.append(\n",
    "        go.Scatter(\n",
    "            x=x, y=y,\n",
    "            mode=\"markers+text\",\n",
    "            text=text,\n",
    "            textposition=\"top center\",\n",
    "            hoverinfo=\"text\",\n",
    "            marker=dict(size=25, color=color, line_width=2),\n",
    "            name=category\n",
    "        )\n",
    "    )\n",
    "\n",
    "#### === Edge arrows ===\n",
    "annotations = []\n",
    "for src, dst, rel_type in edges:\n",
    "    x0, y0 = pos[src]\n",
    "    x1, y1 = pos[dst]\n",
    "    annotations.append(\n",
    "        dict(\n",
    "            ax=x0, ay=y0,\n",
    "            x=x1, y=y1,\n",
    "            xref=\"x\", yref=\"y\",\n",
    "            axref=\"x\", ayref=\"y\",\n",
    "            showarrow=True,\n",
    "            arrowhead=3, arrowsize=1.2, arrowwidth=1.5,\n",
    "            arrowcolor=edge_colors[rel_type]\n",
    "        )\n",
    "    )\n",
    "\n",
    "#### === Draw class clusters (rectangles) ===\n",
    "shapes = []\n",
    "for cls in classes:\n",
    "    x_vals = [pos[cls][0]]\n",
    "    y_vals = [pos[cls][1]]\n",
    "    # find children\n",
    "    children = [dst for src, dst, rel in edges if src == cls]\n",
    "    for c in children:\n",
    "        x_vals.append(pos[c][0])\n",
    "        y_vals.append(pos[c][1])\n",
    "    if x_vals and y_vals:\n",
    "        shapes.append(\n",
    "            dict(\n",
    "                type=\"rect\",\n",
    "                xref=\"x\", yref=\"y\",\n",
    "                x0=min(x_vals) - 1, x1=max(x_vals) + 1,\n",
    "                y0=min(y_vals) - 1, y1=max(y_vals) + 1,\n",
    "                fillcolor=\"rgba(200,200,200,0.1)\",\n",
    "                line=dict(color=\"black\", width=1, dash=\"dot\"),\n",
    "                layer=\"below\"\n",
    "            )\n",
    "        )\n",
    "\n",
    "#### === Figure ===\n",
    "fig = go.Figure(data=node_traces)\n",
    "fig.update_layout(\n",
    "    title=\"Clustered Flowchart of Classes, Methods, and Attributes\",\n",
    "    title_x=0.5,\n",
    "    showlegend=True,\n",
    "    legend=dict(x=1.05, y=1, bgcolor=\"rgba(255,255,255,0.7)\", bordercolor=\"black\"),\n",
    "    margin=dict(l=20, r=20, t=40, b=20),\n",
    "    xaxis=dict(showgrid=False, zeroline=False, showticklabels=False),\n",
    "    yaxis=dict(showgrid=False, zeroline=False, showticklabels=False),\n",
    "    plot_bgcolor=\"white\",\n",
    "    annotations=annotations,\n",
    "    shapes=shapes\n",
    ")\n",
    "\n",
    "#### Edge legend\n",
    "for label, color in edge_colors.items():\n",
    "    fig.add_trace(\n",
    "        go.Scatter(\n",
    "            x=[None], y=[None],\n",
    "            mode=\"lines\",\n",
    "            line=dict(color=color, width=2),\n",
    "            name=f\"{label.capitalize()} edge\"\n",
    "        )\n",
    "    )\n",
    "\n",
    "fig.show()\n",
    "import plotly.io as pio\n",
    "\n",
    "#### Optional: Save as SVG\n",
    "pio.write_image(fig, \"flowchart_static2.svg\", width=1200, height=800)"
   ]
  },
  {
   "cell_type": "markdown",
   "id": "e744199c",
   "metadata": {},
   "source": [
    "![Flowchart2](flowchart_static2.svg)"
   ]
  },
  {
   "cell_type": "markdown",
   "id": "a143d9e4",
   "metadata": {},
   "source": [
    "### Summary \n",
    "- Abstract Base Classes enforce method implementation across subclasses.\n",
    "\n",
    "- Multiple inheritance allows combining features (e.g., ElectricCar).\n",
    "\n",
    "- self is essential to access instance-specific data.\n",
    "\n",
    "- Polymorphism allows uniform method calls across different subclasses."
   ]
  },
  {
   "cell_type": "markdown",
   "id": "bb8a5f46",
   "metadata": {},
   "source": [
    "### Polymorphism\n",
    "\n",
    "Polymorphism means “many forms”. In OOP, it allows you to call the same method (`start()`, `stop()`, `info()`) on different subclasses without knowing which subclass it actually is.\n",
    "\n",
    "The base class (Vehicle) defines the abstract interface, and the subclasses (Car, Bike, Truck, ElectricCar) provide different implementations."
   ]
  },
  {
   "cell_type": "markdown",
   "id": "5f0b3899",
   "metadata": {},
   "source": [
    "### 🚗🚚🏍 Polymorphism Example: Fleet Manager"
   ]
  },
  {
   "cell_type": "code",
   "execution_count": 38,
   "id": "a3c82c63",
   "metadata": {},
   "outputs": [
    {
     "name": "stdout",
     "output_type": "stream",
     "text": [
      "============================================================\n",
      "Operating on: Car\n",
      "Toyota Camry (Car) is starting...\n",
      "Car: Toyota Camry, Seats: 5\n",
      "Toyota Camry (Car) is stopping.\n",
      "Started flag: 0\n",
      "============================================================\n",
      "Operating on: Bike\n",
      "Yamaha R15 (Bike) is roaring to life!\n",
      "Bike: Yamaha R15, Engine: 150cc\n",
      "Yamaha R15 (Bike) is stopping.\n",
      "Started flag: 0\n",
      "============================================================\n",
      "Operating on: Truck\n",
      "Volvo FH16 (Truck) is starting...\n",
      "Truck: Volvo FH16, Capacity: 20 tons\n",
      "Volvo FH16 (Truck) is stopping.\n",
      "Started flag: 0\n",
      "============================================================\n",
      "Operating on: ElectricCar\n",
      "Tesla Model 3 (Electric Car) is powering up silently...\n",
      "Electric Car: Tesla Model 3, Seats: 5, Battery: 75 kWh\n",
      "Tesla Model 3 (Electric Car) is shutting down.\n",
      "Started flag: 0\n"
     ]
    }
   ],
   "source": [
    "# Define a polymorphic fleet manager function\n",
    "def fleet_operations(vehicles):\n",
    "    \"\"\"\n",
    "    Demonstrates polymorphism by running the same operations \n",
    "    on different vehicle types without knowing their concrete class.\n",
    "    \"\"\"\n",
    "    for v in vehicles:\n",
    "        print(\"=\" * 60)\n",
    "        print(f\"Operating on: {v.__class__.__name__}\")\n",
    "        \n",
    "        # Polymorphic calls (all subclasses must implement these!)\n",
    "        print(v.start())   # abstract method implemented differently\n",
    "        print(v.info())    # abstract method implemented differently\n",
    "        print(v.stop())    # abstract method implemented differently\n",
    "        \n",
    "        # Show if the vehicle is currently started (stateful attribute)\n",
    "        print(f\"Started flag: {v.started}\")\n",
    "\n",
    "vehicles = [\n",
    "    Car(\"Toyota\", \"Camry\", 5),\n",
    "    Bike(\"Yamaha\", \"R15\", 150),\n",
    "    Truck(\"Volvo\", \"FH16\", 20),\n",
    "    ElectricCar(\"Tesla\", \"Model 3\", 5, 75)\n",
    "]\n",
    "\n",
    "fleet_operations(vehicles)"
   ]
  },
  {
   "cell_type": "markdown",
   "id": "5cf9be4d",
   "metadata": {},
   "source": [
    "### 📝 Explanation\n",
    "\n",
    "#### 1. Uniform Interface\n",
    "\n",
    "The fleet manager doesn’t care whether it’s a Car, Bike, Truck, or ElectricCar.\n",
    "\n",
    "It just calls `start()`, `info()`, and `stop()` on each one.\n",
    "\n",
    "#### 2. Different Implementations\n",
    "\n",
    "`Car.start() → \"Toyota Camry (Car) is starting...\"`\n",
    "\n",
    "`Bike.start() → \"Yamaha R15 (Bike) is roaring to life!\"`\n",
    "\n",
    "`Truck.start() → \"Volvo FH16 (Truck) is starting...\"`\n",
    "\n",
    "`ElectricCar.start() → \"Tesla Model 3 (Electric Car) is powering up silently...\"`\n",
    "\n",
    "Same method calls, *different behaviors*.\n",
    "\n",
    "#### 3. State Management\n",
    "\n",
    "The started attribute (initialized in Vehicle) ensures all vehicles share a common state convention, while subclasses control how that state changes.\n",
    "\n",
    "👉 This is a cleaner, more realistic polymorphism demo:\n",
    "\n",
    "You can add vehicles of any type to the fleet without changing fleet_operations.\n",
    "\n",
    "Future subclasses (e.g., Bus, Scooter, Drone) will “just work” as long as they implement start, stop, and info."
   ]
  }
 ],
 "metadata": {
  "kernelspec": {
   "display_name": "base",
   "language": "python",
   "name": "python3"
  },
  "language_info": {
   "codemirror_mode": {
    "name": "ipython",
    "version": 3
   },
   "file_extension": ".py",
   "mimetype": "text/x-python",
   "name": "python",
   "nbconvert_exporter": "python",
   "pygments_lexer": "ipython3",
   "version": "3.13.2"
  }
 },
 "nbformat": 4,
 "nbformat_minor": 5
}
